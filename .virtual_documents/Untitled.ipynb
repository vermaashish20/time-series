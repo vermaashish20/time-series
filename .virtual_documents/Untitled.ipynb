import numpy as np


data = [1,2,3,4,5,6,7,8,9,10]  

for i in range(11):
    for j in range(4):
        np.array
