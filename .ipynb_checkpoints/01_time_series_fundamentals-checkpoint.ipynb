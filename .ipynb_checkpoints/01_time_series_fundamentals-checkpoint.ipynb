{
 "cells": [
  {
   "cell_type": "markdown",
   "id": "276b1d39-8137-4853-b05a-9715eb58282b",
   "metadata": {},
   "source": [
    "## DateTime in Pandas"
   ]
  },
  {
   "cell_type": "code",
   "execution_count": 49,
   "id": "1e07aee8-4c67-430f-9ddb-d43f3adc5c69",
   "metadata": {},
   "outputs": [],
   "source": [
    "import pandas as pd\n",
    "import numpy as np\n",
    "import matplotlib.pyplot as plt"
   ]
  },
  {
   "cell_type": "code",
   "execution_count": 2,
   "id": "01c176ed-4237-4653-91f6-1d02e5d111f0",
   "metadata": {},
   "outputs": [],
   "source": [
    "data = pd.read_fwf(\"http://www.cpc.ncep.noaa.gov/products/precip/CWlink/daily_ao_index/monthly.ao.index.b50.current.ascii\", parse_dates = [[0, 1]], infer_datetime_format = True, header = None,)"
   ]
  },
  {
   "cell_type": "code",
   "execution_count": 3,
   "id": "e78cc748-6c89-46d4-b8db-f48b35029249",
   "metadata": {},
   "outputs": [
    {
     "data": {
      "text/html": [
       "<div>\n",
       "<style scoped>\n",
       "    .dataframe tbody tr th:only-of-type {\n",
       "        vertical-align: middle;\n",
       "    }\n",
       "\n",
       "    .dataframe tbody tr th {\n",
       "        vertical-align: top;\n",
       "    }\n",
       "\n",
       "    .dataframe thead th {\n",
       "        text-align: right;\n",
       "    }\n",
       "</style>\n",
       "<table border=\"1\" class=\"dataframe\">\n",
       "  <thead>\n",
       "    <tr style=\"text-align: right;\">\n",
       "      <th></th>\n",
       "      <th>0_1</th>\n",
       "      <th>2</th>\n",
       "    </tr>\n",
       "  </thead>\n",
       "  <tbody>\n",
       "    <tr>\n",
       "      <th>0</th>\n",
       "      <td>1950-01-01</td>\n",
       "      <td>-0.0603</td>\n",
       "    </tr>\n",
       "    <tr>\n",
       "      <th>1</th>\n",
       "      <td>1950-02-01</td>\n",
       "      <td>0.6268</td>\n",
       "    </tr>\n",
       "    <tr>\n",
       "      <th>2</th>\n",
       "      <td>1950-03-01</td>\n",
       "      <td>-0.0081</td>\n",
       "    </tr>\n",
       "    <tr>\n",
       "      <th>3</th>\n",
       "      <td>1950-04-01</td>\n",
       "      <td>0.5551</td>\n",
       "    </tr>\n",
       "    <tr>\n",
       "      <th>4</th>\n",
       "      <td>1950-05-01</td>\n",
       "      <td>0.0716</td>\n",
       "    </tr>\n",
       "    <tr>\n",
       "      <th>...</th>\n",
       "      <td>...</td>\n",
       "      <td>...</td>\n",
       "    </tr>\n",
       "    <tr>\n",
       "      <th>890</th>\n",
       "      <td>2024-03-01</td>\n",
       "      <td>-0.6102</td>\n",
       "    </tr>\n",
       "    <tr>\n",
       "      <th>891</th>\n",
       "      <td>2024-04-01</td>\n",
       "      <td>0.4645</td>\n",
       "    </tr>\n",
       "    <tr>\n",
       "      <th>892</th>\n",
       "      <td>2024-05-01</td>\n",
       "      <td>-0.0480</td>\n",
       "    </tr>\n",
       "    <tr>\n",
       "      <th>893</th>\n",
       "      <td>2024-06-01</td>\n",
       "      <td>0.1364</td>\n",
       "    </tr>\n",
       "    <tr>\n",
       "      <th>894</th>\n",
       "      <td>2024-07-01</td>\n",
       "      <td>0.5868</td>\n",
       "    </tr>\n",
       "  </tbody>\n",
       "</table>\n",
       "<p>895 rows × 2 columns</p>\n",
       "</div>"
      ],
      "text/plain": [
       "           0_1       2\n",
       "0   1950-01-01 -0.0603\n",
       "1   1950-02-01  0.6268\n",
       "2   1950-03-01 -0.0081\n",
       "3   1950-04-01  0.5551\n",
       "4   1950-05-01  0.0716\n",
       "..         ...     ...\n",
       "890 2024-03-01 -0.6102\n",
       "891 2024-04-01  0.4645\n",
       "892 2024-05-01 -0.0480\n",
       "893 2024-06-01  0.1364\n",
       "894 2024-07-01  0.5868\n",
       "\n",
       "[895 rows x 2 columns]"
      ]
     },
     "execution_count": 3,
     "metadata": {},
     "output_type": "execute_result"
    }
   ],
   "source": [
    "data"
   ]
  },
  {
   "cell_type": "code",
   "execution_count": 5,
   "id": "9dc080e8-cccd-4026-8204-6b43d9ce3e8f",
   "metadata": {},
   "outputs": [],
   "source": [
    "data.index = data['0_1']"
   ]
  },
  {
   "cell_type": "code",
   "execution_count": 24,
   "id": "214b407a-587e-4792-a197-ba242a2d90fe",
   "metadata": {},
   "outputs": [],
   "source": [
    "data.index.name = 'Month'\n",
    "data.columns = ['Values']"
   ]
  },
  {
   "cell_type": "code",
   "execution_count": 23,
   "id": "1bb62927-c0a6-4bf4-a991-7c8bbd2b61de",
   "metadata": {},
   "outputs": [],
   "source": [
    "# data.drop(['0_1'],axis=1,inplace=True)"
   ]
  },
  {
   "cell_type": "code",
   "execution_count": 25,
   "id": "366958ff-1ba5-4f21-b98d-b0e69bcde6c6",
   "metadata": {},
   "outputs": [
    {
     "data": {
      "text/html": [
       "<div>\n",
       "<style scoped>\n",
       "    .dataframe tbody tr th:only-of-type {\n",
       "        vertical-align: middle;\n",
       "    }\n",
       "\n",
       "    .dataframe tbody tr th {\n",
       "        vertical-align: top;\n",
       "    }\n",
       "\n",
       "    .dataframe thead th {\n",
       "        text-align: right;\n",
       "    }\n",
       "</style>\n",
       "<table border=\"1\" class=\"dataframe\">\n",
       "  <thead>\n",
       "    <tr style=\"text-align: right;\">\n",
       "      <th></th>\n",
       "      <th>Values</th>\n",
       "    </tr>\n",
       "    <tr>\n",
       "      <th>Month</th>\n",
       "      <th></th>\n",
       "    </tr>\n",
       "  </thead>\n",
       "  <tbody>\n",
       "    <tr>\n",
       "      <th>1950-01-01</th>\n",
       "      <td>-0.0603</td>\n",
       "    </tr>\n",
       "    <tr>\n",
       "      <th>1950-02-01</th>\n",
       "      <td>0.6268</td>\n",
       "    </tr>\n",
       "    <tr>\n",
       "      <th>1950-03-01</th>\n",
       "      <td>-0.0081</td>\n",
       "    </tr>\n",
       "    <tr>\n",
       "      <th>1950-04-01</th>\n",
       "      <td>0.5551</td>\n",
       "    </tr>\n",
       "  </tbody>\n",
       "</table>\n",
       "</div>"
      ],
      "text/plain": [
       "            Values\n",
       "Month             \n",
       "1950-01-01 -0.0603\n",
       "1950-02-01  0.6268\n",
       "1950-03-01 -0.0081\n",
       "1950-04-01  0.5551"
      ]
     },
     "execution_count": 25,
     "metadata": {},
     "output_type": "execute_result"
    }
   ],
   "source": [
    "data[:4]"
   ]
  },
  {
   "cell_type": "code",
   "execution_count": 26,
   "id": "0ce7b67c-75f2-4a70-bc7c-b657979fbe7a",
   "metadata": {},
   "outputs": [
    {
     "name": "stdout",
     "output_type": "stream",
     "text": [
      "<class 'pandas.core.frame.DataFrame'>\n",
      "DatetimeIndex: 895 entries, 1950-01-01 to 2024-07-01\n",
      "Data columns (total 1 columns):\n",
      " #   Column  Non-Null Count  Dtype  \n",
      "---  ------  --------------  -----  \n",
      " 0   Values  895 non-null    float64\n",
      "dtypes: float64(1)\n",
      "memory usage: 46.3 KB\n"
     ]
    }
   ],
   "source": [
    "data.info()"
   ]
  },
  {
   "cell_type": "markdown",
   "id": "a5c63a70-5ee8-4fab-bf4d-9c70aedc3194",
   "metadata": {},
   "source": [
    "#### Resampling\n",
    "\n",
    "- upscaling : making more data by adding new ones, copy the current,etc. from present data\n",
    "- downscaling : decresing data by merging, removing,etc. from current data"
   ]
  },
  {
   "cell_type": "code",
   "execution_count": 39,
   "id": "02a529b1-893d-419c-b2b1-636857b82eb0",
   "metadata": {},
   "outputs": [
    {
     "data": {
      "text/plain": [
       "2024-01-14 00:00:00     0\n",
       "2024-01-14 01:00:00     1\n",
       "2024-01-14 02:00:00     2\n",
       "2024-01-14 03:00:00     3\n",
       "2024-01-14 04:00:00     4\n",
       "2024-01-14 05:00:00     5\n",
       "2024-01-14 06:00:00     6\n",
       "2024-01-14 07:00:00     7\n",
       "2024-01-14 08:00:00     8\n",
       "2024-01-14 09:00:00     9\n",
       "2024-01-14 10:00:00    10\n",
       "2024-01-14 11:00:00    11\n",
       "2024-01-14 12:00:00    12\n",
       "2024-01-14 13:00:00    13\n",
       "2024-01-14 14:00:00    14\n",
       "2024-01-14 15:00:00    15\n",
       "2024-01-14 16:00:00    16\n",
       "2024-01-14 17:00:00    17\n",
       "2024-01-14 18:00:00    18\n",
       "2024-01-14 19:00:00    19\n",
       "2024-01-14 20:00:00    20\n",
       "2024-01-14 21:00:00    21\n",
       "2024-01-14 22:00:00    22\n",
       "2024-01-14 23:00:00    23\n",
       "2024-01-15 00:00:00    24\n",
       "2024-01-15 01:00:00    25\n",
       "2024-01-15 02:00:00    26\n",
       "2024-01-15 03:00:00    27\n",
       "2024-01-15 04:00:00    28\n",
       "2024-01-15 05:00:00    29\n",
       "Freq: H, dtype: int64"
      ]
     },
     "execution_count": 39,
     "metadata": {},
     "output_type": "execute_result"
    }
   ],
   "source": [
    "#eg of Resampling\n",
    "rng = pd.date_range('January 14 2024' ,periods = 30,freq='H')\n",
    "ts = pd.Series([i for i in range(len(rng))],index=rng)\n",
    "ts"
   ]
  },
  {
   "cell_type": "code",
   "execution_count": 41,
   "id": "feea6c49-63f8-46f1-9c26-deac6ebe033b",
   "metadata": {},
   "outputs": [
    {
     "data": {
      "text/plain": [
       "2024-01-14 00:00:00     0\n",
       "2024-01-14 00:45:00     0\n",
       "2024-01-14 01:30:00     1\n",
       "2024-01-14 02:15:00     2\n",
       "2024-01-14 03:00:00     3\n",
       "2024-01-14 03:45:00     3\n",
       "2024-01-14 04:30:00     4\n",
       "2024-01-14 05:15:00     5\n",
       "2024-01-14 06:00:00     6\n",
       "2024-01-14 06:45:00     6\n",
       "2024-01-14 07:30:00     7\n",
       "2024-01-14 08:15:00     8\n",
       "2024-01-14 09:00:00     9\n",
       "2024-01-14 09:45:00     9\n",
       "2024-01-14 10:30:00    10\n",
       "2024-01-14 11:15:00    11\n",
       "2024-01-14 12:00:00    12\n",
       "2024-01-14 12:45:00    12\n",
       "2024-01-14 13:30:00    13\n",
       "2024-01-14 14:15:00    14\n",
       "2024-01-14 15:00:00    15\n",
       "2024-01-14 15:45:00    15\n",
       "2024-01-14 16:30:00    16\n",
       "2024-01-14 17:15:00    17\n",
       "2024-01-14 18:00:00    18\n",
       "2024-01-14 18:45:00    18\n",
       "2024-01-14 19:30:00    19\n",
       "2024-01-14 20:15:00    20\n",
       "2024-01-14 21:00:00    21\n",
       "2024-01-14 21:45:00    21\n",
       "2024-01-14 22:30:00    22\n",
       "2024-01-14 23:15:00    23\n",
       "2024-01-15 00:00:00    24\n",
       "2024-01-15 00:45:00    24\n",
       "2024-01-15 01:30:00    25\n",
       "2024-01-15 02:15:00    26\n",
       "2024-01-15 03:00:00    27\n",
       "2024-01-15 03:45:00    27\n",
       "2024-01-15 04:30:00    28\n",
       "Freq: 45T, dtype: int64"
      ]
     },
     "execution_count": 41,
     "metadata": {},
     "output_type": "execute_result"
    }
   ],
   "source": [
    "#upsacaling\n",
    "conv45 = ts.asfreq('45Min',method='ffill')\n",
    "conv45"
   ]
  },
  {
   "cell_type": "code",
   "execution_count": 42,
   "id": "e4156c0d-920a-466d-9812-3f5af83e5f88",
   "metadata": {},
   "outputs": [
    {
     "data": {
      "text/plain": [
       "2024-01-14 00:00:00     0\n",
       "2024-01-14 03:00:00     3\n",
       "2024-01-14 06:00:00     6\n",
       "2024-01-14 09:00:00     9\n",
       "2024-01-14 12:00:00    12\n",
       "2024-01-14 15:00:00    15\n",
       "2024-01-14 18:00:00    18\n",
       "2024-01-14 21:00:00    21\n",
       "2024-01-15 00:00:00    24\n",
       "2024-01-15 03:00:00    27\n",
       "Freq: 3H, dtype: int64"
      ]
     },
     "execution_count": 42,
     "metadata": {},
     "output_type": "execute_result"
    }
   ],
   "source": [
    "conv3h = ts.asfreq('3H')\n",
    "conv3h #downscaling"
   ]
  },
  {
   "cell_type": "markdown",
   "id": "99751b0a-7d90-4dd1-a417-b35db76fab38",
   "metadata": {},
   "source": [
    "creates a bin of given frequency, the values of each record that falls in the bin then aggregate func is applied to the values to assign the bin. \n",
    "\n",
    "Downsample of freq 2\n",
    "[3,5,6,8,4,8]->(3,5],(6,8],(4,8]->sum()->8,14,12\n",
    "created bin of 2, the values are taken in the bin,the left/right/close is assigned,aggregation is assigned\n",
    "Now the value of label of bin(ie, the freq of bin) whether to aggegate or not depends on us. we provide this info\n",
    "using label='right/left', closed='right/left' parameter in \n",
    "reshample('2H',label='right',closed='right').sum()"
   ]
  },
  {
   "cell_type": "code",
   "execution_count": 45,
   "id": "111bdde6-00d8-4e16-b799-3f8b191bcd36",
   "metadata": {},
   "outputs": [
    {
     "data": {
      "text/plain": [
       "2024-01-14 00:00:00     1\n",
       "2024-01-14 02:00:00     5\n",
       "2024-01-14 04:00:00     9\n",
       "2024-01-14 06:00:00    13\n",
       "2024-01-14 08:00:00    17\n",
       "2024-01-14 10:00:00    21\n",
       "2024-01-14 12:00:00    25\n",
       "2024-01-14 14:00:00    29\n",
       "2024-01-14 16:00:00    33\n",
       "2024-01-14 18:00:00    37\n",
       "2024-01-14 20:00:00    41\n",
       "2024-01-14 22:00:00    45\n",
       "2024-01-15 00:00:00    49\n",
       "2024-01-15 02:00:00    53\n",
       "2024-01-15 04:00:00    57\n",
       "Freq: 2H, dtype: int64"
      ]
     },
     "execution_count": 45,
     "metadata": {},
     "output_type": "execute_result"
    }
   ],
   "source": [
    "ts.resample('2H').sum()"
   ]
  },
  {
   "cell_type": "markdown",
   "id": "0a03fe5d-e8b1-4d97-ae08-8f9fdac66c1f",
   "metadata": {},
   "source": [
    "## Window Function\n",
    "\n",
    "Making features from time-series data.The 'window' method for creating new feature is used/more effective.\n",
    "\n",
    "- Lag : original data is lagged behind t-1/t-2/.. time-step. The new data created is ahead of t+1/t+2 time-step. The steps ahead/lag is refers as `lag of n` or `window of n`\n",
    "- Rolling window : new data points contains the statstical summary of `data points in window`.\n",
    "\n",
    "  eg. rolling average/moving average, rolling max/min , rolling std/var,etc..\n",
    "\n",
    "- Expanding window : the initial window size is set, then the size keeps increasing with new data, the aggegate/stat is used on the window,then increases again...till the window size gets equal to size of dataset.\n",
    "\n",
    "  Rolling window: when we wann see how data fluctuates within a fixed window.This gets the idea that whether in that size,something happing to data(like increasing,decresing,etc.). Ex. in stock market rolling window with mean is used to see that in 7/10 day, does something happening to market.\n",
    "\n",
    "  Expanding window : major change in the data in upcoming days..like as window keeps bigger, the stat also gets changes, but if the stat seems static for longer period means that noo change in data(stable), now if the data started changing drastically the window gets bigger thus stats also changes drastically.."
   ]
  },
  {
   "cell_type": "markdown",
   "id": "a7abdf19-b2dd-422f-9e9b-e964e02893b1",
   "metadata": {},
   "source": [
    "#### Lag or Differencing "
   ]
  },
  {
   "cell_type": "code",
   "execution_count": 115,
   "id": "b1265586-e343-45f9-bae8-c49ab32b3640",
   "metadata": {},
   "outputs": [
    {
     "data": {
      "text/plain": [
       "900"
      ]
     },
     "execution_count": 115,
     "metadata": {},
     "output_type": "execute_result"
    }
   ],
   "source": [
    "\n",
    "ts_rn = []\n",
    "for i in range(900):\n",
    "    x = np.random.randint(20,60)\n",
    "    ts_rn.append(x)\n",
    "len(ts_rn)"
   ]
  },
  {
   "cell_type": "code",
   "execution_count": 120,
   "id": "cd3c576a-6208-4db6-9c18-a8dc11d538cd",
   "metadata": {},
   "outputs": [
    {
     "data": {
      "text/html": [
       "<div>\n",
       "<style scoped>\n",
       "    .dataframe tbody tr th:only-of-type {\n",
       "        vertical-align: middle;\n",
       "    }\n",
       "\n",
       "    .dataframe tbody tr th {\n",
       "        vertical-align: top;\n",
       "    }\n",
       "\n",
       "    .dataframe thead th {\n",
       "        text-align: right;\n",
       "    }\n",
       "</style>\n",
       "<table border=\"1\" class=\"dataframe\">\n",
       "  <thead>\n",
       "    <tr style=\"text-align: right;\">\n",
       "      <th></th>\n",
       "      <th>A</th>\n",
       "      <th>B</th>\n",
       "      <th>C</th>\n",
       "    </tr>\n",
       "  </thead>\n",
       "  <tbody>\n",
       "    <tr>\n",
       "      <th>2024-02-22</th>\n",
       "      <td>NaN</td>\n",
       "      <td>NaN</td>\n",
       "      <td>NaN</td>\n",
       "    </tr>\n",
       "    <tr>\n",
       "      <th>2024-02-23</th>\n",
       "      <td>NaN</td>\n",
       "      <td>NaN</td>\n",
       "      <td>NaN</td>\n",
       "    </tr>\n",
       "    <tr>\n",
       "      <th>2024-02-24</th>\n",
       "      <td>-1.465202</td>\n",
       "      <td>-0.806216</td>\n",
       "      <td>-0.690349</td>\n",
       "    </tr>\n",
       "    <tr>\n",
       "      <th>2024-02-25</th>\n",
       "      <td>0.531157</td>\n",
       "      <td>-0.455683</td>\n",
       "      <td>-0.095962</td>\n",
       "    </tr>\n",
       "    <tr>\n",
       "      <th>2024-02-26</th>\n",
       "      <td>-0.389428</td>\n",
       "      <td>-1.356077</td>\n",
       "      <td>-0.323627</td>\n",
       "    </tr>\n",
       "    <tr>\n",
       "      <th>2024-02-27</th>\n",
       "      <td>0.915090</td>\n",
       "      <td>-0.668133</td>\n",
       "      <td>-1.281303</td>\n",
       "    </tr>\n",
       "    <tr>\n",
       "      <th>2024-02-28</th>\n",
       "      <td>-0.393331</td>\n",
       "      <td>-1.430344</td>\n",
       "      <td>1.129598</td>\n",
       "    </tr>\n",
       "    <tr>\n",
       "      <th>2024-02-29</th>\n",
       "      <td>-0.322459</td>\n",
       "      <td>-1.201178</td>\n",
       "      <td>0.453610</td>\n",
       "    </tr>\n",
       "    <tr>\n",
       "      <th>2024-03-01</th>\n",
       "      <td>-1.888913</td>\n",
       "      <td>-0.942013</td>\n",
       "      <td>0.268282</td>\n",
       "    </tr>\n",
       "    <tr>\n",
       "      <th>2024-03-02</th>\n",
       "      <td>0.576097</td>\n",
       "      <td>0.738212</td>\n",
       "      <td>0.441702</td>\n",
       "    </tr>\n",
       "    <tr>\n",
       "      <th>2024-03-03</th>\n",
       "      <td>0.652787</td>\n",
       "      <td>-0.696524</td>\n",
       "      <td>-0.506296</td>\n",
       "    </tr>\n",
       "    <tr>\n",
       "      <th>2024-03-04</th>\n",
       "      <td>0.752361</td>\n",
       "      <td>2.425881</td>\n",
       "      <td>-2.576132</td>\n",
       "    </tr>\n",
       "  </tbody>\n",
       "</table>\n",
       "</div>"
      ],
      "text/plain": [
       "                   A         B         C\n",
       "2024-02-22       NaN       NaN       NaN\n",
       "2024-02-23       NaN       NaN       NaN\n",
       "2024-02-24 -1.465202 -0.806216 -0.690349\n",
       "2024-02-25  0.531157 -0.455683 -0.095962\n",
       "2024-02-26 -0.389428 -1.356077 -0.323627\n",
       "2024-02-27  0.915090 -0.668133 -1.281303\n",
       "2024-02-28 -0.393331 -1.430344  1.129598\n",
       "2024-02-29 -0.322459 -1.201178  0.453610\n",
       "2024-03-01 -1.888913 -0.942013  0.268282\n",
       "2024-03-02  0.576097  0.738212  0.441702\n",
       "2024-03-03  0.652787 -0.696524 -0.506296\n",
       "2024-03-04  0.752361  2.425881 -2.576132"
      ]
     },
     "execution_count": 120,
     "metadata": {},
     "output_type": "execute_result"
    }
   ],
   "source": [
    "\n",
    "ts_rnd = pd.DataFrame(np.random.randn(900,3),columns=['A','B','C'],index = pd.date_range('2/4/2024' ,periods=900))\n",
    "ts_shifted = ts_rnd.shift(20)\n",
    "ts_shifted[18:30]"
   ]
  },
  {
   "cell_type": "code",
   "execution_count": 121,
   "id": "cd51a2ab-0ee2-4b73-8abe-48a436f7b7f6",
   "metadata": {},
   "outputs": [
    {
     "data": {
      "text/plain": [
       "[<matplotlib.lines.Line2D at 0x1f9cb0ab450>,\n",
       " <matplotlib.lines.Line2D at 0x1f9cb0abb50>,\n",
       " <matplotlib.lines.Line2D at 0x1f9cb0aa310>]"
      ]
     },
     "execution_count": 121,
     "metadata": {},
     "output_type": "execute_result"
    },
    {
     "data": {
      "image/png": "[encoded data removed]",
      "text/plain": [
       "<Figure size 640x480 with 1 Axes>"
      ]
     },
     "metadata": {},
     "output_type": "display_data"
    }
   ],
   "source": [
    "plt.plot(ts_rnd,c='gray')\n",
    "plt.plot(ts_shifted,c='skyblue')"
   ]
  },
  {
   "cell_type": "markdown",
   "id": "347b7840-0f5b-4ce8-a809-d190d0aa726e",
   "metadata": {},
   "source": [
    "#### Rolling window"
   ]
  },
  {
   "cell_type": "code",
   "execution_count": 125,
   "id": "219698f1-e266-4fb6-9784-3ca6ed32a208",
   "metadata": {},
   "outputs": [
    {
     "data": {
      "text/plain": [
       "[<matplotlib.lines.Line2D at 0x1f9d3241c90>,\n",
       " <matplotlib.lines.Line2D at 0x1f9d1834610>,\n",
       " <matplotlib.lines.Line2D at 0x1f9d3242fd0>]"
      ]
     },
     "execution_count": 125,
     "metadata": {},
     "output_type": "execute_result"
    },
    {
     "data": {
      "image/png": "[encoded data removed]",
      "text/plain": [
       "<Figure size 640x480 with 1 Axes>"
      ]
     },
     "metadata": {},
     "output_type": "display_data"
    }
   ],
   "source": [
    "plt.plot(ts_rnd,c='gray')\n",
    "plt.plot(ts_rnd.rolling(50).mean(),c='red' )#moving avergae of 50d / rolling average of 50d"
   ]
  },
  {
   "cell_type": "markdown",
   "id": "00a1fabc-d832-4b4a-96b6-13958a4b8967",
   "metadata": {},
   "source": [
    "#### Expanding Window"
   ]
  },
  {
   "cell_type": "code",
   "execution_count": 127,
   "id": "0b1e929e-8537-4229-ab33-a5b05202822a",
   "metadata": {},
   "outputs": [
    {
     "data": {
      "text/plain": [
       "<Axes: >"
      ]
     },
     "execution_count": 127,
     "metadata": {},
     "output_type": "execute_result"
    },
    {
     "data": {
      "image/png": "[encoded data removed]",
      "text/plain": [
       "<Figure size 640x480 with 1 Axes>"
      ]
     },
     "metadata": {},
     "output_type": "display_data"
    }
   ],
   "source": [
    "ts_rnd.expanding(min_periods=4).mean().plot()"
   ]
  },
  {
   "cell_type": "code",
   "execution_count": 128,
   "id": "af1e19f6-6476-4cb6-9268-b970d05842e9",
   "metadata": {},
   "outputs": [
    {
     "data": {
      "text/html": [
       "<div>\n",
       "<style scoped>\n",
       "    .dataframe tbody tr th:only-of-type {\n",
       "        vertical-align: middle;\n",
       "    }\n",
       "\n",
       "    .dataframe tbody tr th {\n",
       "        vertical-align: top;\n",
       "    }\n",
       "\n",
       "    .dataframe thead tr th {\n",
       "        text-align: left;\n",
       "    }\n",
       "</style>\n",
       "<table border=\"1\" class=\"dataframe\">\n",
       "  <thead>\n",
       "    <tr>\n",
       "      <th></th>\n",
       "      <th colspan=\"2\" halign=\"left\">A</th>\n",
       "      <th colspan=\"2\" halign=\"left\">B</th>\n",
       "      <th colspan=\"2\" halign=\"left\">C</th>\n",
       "    </tr>\n",
       "    <tr>\n",
       "      <th></th>\n",
       "      <th>sum</th>\n",
       "      <th>mean</th>\n",
       "      <th>sum</th>\n",
       "      <th>mean</th>\n",
       "      <th>sum</th>\n",
       "      <th>mean</th>\n",
       "    </tr>\n",
       "  </thead>\n",
       "  <tbody>\n",
       "    <tr>\n",
       "      <th>2024-02-04</th>\n",
       "      <td>NaN</td>\n",
       "      <td>NaN</td>\n",
       "      <td>NaN</td>\n",
       "      <td>NaN</td>\n",
       "      <td>NaN</td>\n",
       "      <td>NaN</td>\n",
       "    </tr>\n",
       "    <tr>\n",
       "      <th>2024-02-05</th>\n",
       "      <td>NaN</td>\n",
       "      <td>NaN</td>\n",
       "      <td>NaN</td>\n",
       "      <td>NaN</td>\n",
       "      <td>NaN</td>\n",
       "      <td>NaN</td>\n",
       "    </tr>\n",
       "    <tr>\n",
       "      <th>2024-02-06</th>\n",
       "      <td>NaN</td>\n",
       "      <td>NaN</td>\n",
       "      <td>NaN</td>\n",
       "      <td>NaN</td>\n",
       "      <td>NaN</td>\n",
       "      <td>NaN</td>\n",
       "    </tr>\n",
       "    <tr>\n",
       "      <th>2024-02-07</th>\n",
       "      <td>NaN</td>\n",
       "      <td>NaN</td>\n",
       "      <td>NaN</td>\n",
       "      <td>NaN</td>\n",
       "      <td>NaN</td>\n",
       "      <td>NaN</td>\n",
       "    </tr>\n",
       "    <tr>\n",
       "      <th>2024-02-08</th>\n",
       "      <td>NaN</td>\n",
       "      <td>NaN</td>\n",
       "      <td>NaN</td>\n",
       "      <td>NaN</td>\n",
       "      <td>NaN</td>\n",
       "      <td>NaN</td>\n",
       "    </tr>\n",
       "    <tr>\n",
       "      <th>...</th>\n",
       "      <td>...</td>\n",
       "      <td>...</td>\n",
       "      <td>...</td>\n",
       "      <td>...</td>\n",
       "      <td>...</td>\n",
       "      <td>...</td>\n",
       "    </tr>\n",
       "    <tr>\n",
       "      <th>2026-07-18</th>\n",
       "      <td>2.184695</td>\n",
       "      <td>0.072823</td>\n",
       "      <td>13.088104</td>\n",
       "      <td>0.436270</td>\n",
       "      <td>2.282394</td>\n",
       "      <td>0.076080</td>\n",
       "    </tr>\n",
       "    <tr>\n",
       "      <th>2026-07-19</th>\n",
       "      <td>4.728398</td>\n",
       "      <td>0.157613</td>\n",
       "      <td>12.390437</td>\n",
       "      <td>0.413015</td>\n",
       "      <td>3.040920</td>\n",
       "      <td>0.101364</td>\n",
       "    </tr>\n",
       "    <tr>\n",
       "      <th>2026-07-20</th>\n",
       "      <td>3.581090</td>\n",
       "      <td>0.119370</td>\n",
       "      <td>11.213608</td>\n",
       "      <td>0.373787</td>\n",
       "      <td>-0.498537</td>\n",
       "      <td>-0.016618</td>\n",
       "    </tr>\n",
       "    <tr>\n",
       "      <th>2026-07-21</th>\n",
       "      <td>1.314831</td>\n",
       "      <td>0.043828</td>\n",
       "      <td>12.371403</td>\n",
       "      <td>0.412380</td>\n",
       "      <td>-0.298380</td>\n",
       "      <td>-0.009946</td>\n",
       "    </tr>\n",
       "    <tr>\n",
       "      <th>2026-07-22</th>\n",
       "      <td>1.279423</td>\n",
       "      <td>0.042647</td>\n",
       "      <td>11.812172</td>\n",
       "      <td>0.393739</td>\n",
       "      <td>1.374565</td>\n",
       "      <td>0.045819</td>\n",
       "    </tr>\n",
       "  </tbody>\n",
       "</table>\n",
       "<p>900 rows × 6 columns</p>\n",
       "</div>"
      ],
      "text/plain": [
       "                   A                    B                   C          \n",
       "                 sum      mean        sum      mean       sum      mean\n",
       "2024-02-04       NaN       NaN        NaN       NaN       NaN       NaN\n",
       "2024-02-05       NaN       NaN        NaN       NaN       NaN       NaN\n",
       "2024-02-06       NaN       NaN        NaN       NaN       NaN       NaN\n",
       "2024-02-07       NaN       NaN        NaN       NaN       NaN       NaN\n",
       "2024-02-08       NaN       NaN        NaN       NaN       NaN       NaN\n",
       "...              ...       ...        ...       ...       ...       ...\n",
       "2026-07-18  2.184695  0.072823  13.088104  0.436270  2.282394  0.076080\n",
       "2026-07-19  4.728398  0.157613  12.390437  0.413015  3.040920  0.101364\n",
       "2026-07-20  3.581090  0.119370  11.213608  0.373787 -0.498537 -0.016618\n",
       "2026-07-21  1.314831  0.043828  12.371403  0.412380 -0.298380 -0.009946\n",
       "2026-07-22  1.279423  0.042647  11.812172  0.393739  1.374565  0.045819\n",
       "\n",
       "[900 rows x 6 columns]"
      ]
     },
     "execution_count": 128,
     "metadata": {},
     "output_type": "execute_result"
    }
   ],
   "source": [
    "ts_rnd.rolling(30).agg(['sum','mean']) #calculating more than one window fun"
   ]
  },
  {
   "cell_type": "markdown",
   "id": "9df061fd-4179-4279-a5b5-9b7e78e60f1f",
   "metadata": {},
   "source": [
    "## Putting all together with Real-life Dataset"
   ]
  },
  {
   "cell_type": "code",
   "execution_count": null,
   "id": "ab9f8284-06ae-4f82-97c3-7e03b6377187",
   "metadata": {},
   "outputs": [],
   "source": [
    "# !pip install pandas_datareader\n",
    "# for extracting remote data"
   ]
  },
  {
   "cell_type": "code",
   "execution_count": 132,
   "id": "bb7f6bfe-4050-4761-8f0c-f82cc808ea56",
   "metadata": {},
   "outputs": [],
   "source": [
    "from pandas_datareader import data, wb"
   ]
  },
  {
   "cell_type": "code",
   "execution_count": 135,
   "id": "4bc78caa-b557-4e9a-9c7f-1ac8907447c0",
   "metadata": {},
   "outputs": [
    {
     "ename": "TypeError",
     "evalue": "object of type 'NoneType' has no len()",
     "output_type": "error",
     "traceback": [
      "\u001b[1;31m---------------------------------------------------------------------------\u001b[0m",
      "\u001b[1;31mTypeError\u001b[0m                                 Traceback (most recent call last)",
      "Cell \u001b[1;32mIn[135], line 1\u001b[0m\n\u001b[1;32m----> 1\u001b[0m data\u001b[38;5;241m.\u001b[39mget_data_yahoo()\n",
      "File \u001b[1;32mD:\\ML\\Tools\\Lib\\site-packages\\pandas_datareader\\data.py:80\u001b[0m, in \u001b[0;36mget_data_yahoo\u001b[1;34m(*args, **kwargs)\u001b[0m\n\u001b[0;32m     79\u001b[0m \u001b[38;5;28;01mdef\u001b[39;00m \u001b[38;5;21mget_data_yahoo\u001b[39m(\u001b[38;5;241m*\u001b[39margs, \u001b[38;5;241m*\u001b[39m\u001b[38;5;241m*\u001b[39mkwargs):\n\u001b[1;32m---> 80\u001b[0m     \u001b[38;5;28;01mreturn\u001b[39;00m YahooDailyReader(\u001b[38;5;241m*\u001b[39margs, \u001b[38;5;241m*\u001b[39m\u001b[38;5;241m*\u001b[39mkwargs)\u001b[38;5;241m.\u001b[39mread()\n",
      "File \u001b[1;32mD:\\ML\\Tools\\Lib\\site-packages\\pandas_datareader\\base.py:258\u001b[0m, in \u001b[0;36m_DailyBaseReader.read\u001b[1;34m(self)\u001b[0m\n\u001b[0;32m    256\u001b[0m     df \u001b[38;5;241m=\u001b[39m \u001b[38;5;28mself\u001b[39m\u001b[38;5;241m.\u001b[39m_dl_mult_symbols(\u001b[38;5;28mself\u001b[39m\u001b[38;5;241m.\u001b[39msymbols\u001b[38;5;241m.\u001b[39mindex)\n\u001b[0;32m    257\u001b[0m \u001b[38;5;28;01melse\u001b[39;00m:\n\u001b[1;32m--> 258\u001b[0m     df \u001b[38;5;241m=\u001b[39m \u001b[38;5;28mself\u001b[39m\u001b[38;5;241m.\u001b[39m_dl_mult_symbols(\u001b[38;5;28mself\u001b[39m\u001b[38;5;241m.\u001b[39msymbols)\n\u001b[0;32m    259\u001b[0m \u001b[38;5;28;01mreturn\u001b[39;00m df\n",
      "File \u001b[1;32mD:\\ML\\Tools\\Lib\\site-packages\\pandas_datareader\\base.py:265\u001b[0m, in \u001b[0;36m_DailyBaseReader._dl_mult_symbols\u001b[1;34m(self, symbols)\u001b[0m\n\u001b[0;32m    263\u001b[0m failed \u001b[38;5;241m=\u001b[39m []\n\u001b[0;32m    264\u001b[0m passed \u001b[38;5;241m=\u001b[39m []\n\u001b[1;32m--> 265\u001b[0m \u001b[38;5;28;01mfor\u001b[39;00m sym_group \u001b[38;5;129;01min\u001b[39;00m _in_chunks(symbols, \u001b[38;5;28mself\u001b[39m\u001b[38;5;241m.\u001b[39mchunksize):\n\u001b[0;32m    266\u001b[0m     \u001b[38;5;28;01mfor\u001b[39;00m sym \u001b[38;5;129;01min\u001b[39;00m sym_group:\n\u001b[0;32m    267\u001b[0m         \u001b[38;5;28;01mtry\u001b[39;00m:\n",
      "File \u001b[1;32mD:\\ML\\Tools\\Lib\\site-packages\\pandas_datareader\\base.py:300\u001b[0m, in \u001b[0;36m_in_chunks\u001b[1;34m(seq, size)\u001b[0m\n\u001b[0;32m    296\u001b[0m \u001b[38;5;28;01mdef\u001b[39;00m \u001b[38;5;21m_in_chunks\u001b[39m(seq, size):\n\u001b[0;32m    297\u001b[0m \u001b[38;5;250m    \u001b[39m\u001b[38;5;124;03m\"\"\"\u001b[39;00m\n\u001b[0;32m    298\u001b[0m \u001b[38;5;124;03m    Return sequence in 'chunks' of size defined by size\u001b[39;00m\n\u001b[0;32m    299\u001b[0m \u001b[38;5;124;03m    \"\"\"\u001b[39;00m\n\u001b[1;32m--> 300\u001b[0m     \u001b[38;5;28;01mreturn\u001b[39;00m (seq[pos : pos \u001b[38;5;241m+\u001b[39m size] \u001b[38;5;28;01mfor\u001b[39;00m pos \u001b[38;5;129;01min\u001b[39;00m \u001b[38;5;28mrange\u001b[39m(\u001b[38;5;241m0\u001b[39m, \u001b[38;5;28mlen\u001b[39m(seq), size))\n",
      "\u001b[1;31mTypeError\u001b[0m: object of type 'NoneType' has no len()"
     ]
    }
   ],
   "source": [
    "data.YahooDailyReader()"
   ]
  },
  {
   "cell_type": "code",
   "execution_count": 134,
   "id": "1be4f018-5194-4c6e-bd0f-403d3bd0e79b",
   "metadata": {},
   "outputs": [
    {
     "ename": "AttributeError",
     "evalue": "module 'pandas_datareader.wb' has no attribute 'DataReader'",
     "output_type": "error",
     "traceback": [
      "\u001b[1;31m---------------------------------------------------------------------------\u001b[0m",
      "\u001b[1;31mAttributeError\u001b[0m                            Traceback (most recent call last)",
      "Cell \u001b[1;32mIn[134], line 3\u001b[0m\n\u001b[0;32m      1\u001b[0m start \u001b[38;5;241m=\u001b[39m pd\u001b[38;5;241m.\u001b[39mTimestamp(\u001b[38;5;241m2010\u001b[39m, \u001b[38;5;241m1\u001b[39m, \u001b[38;5;241m1\u001b[39m)\n\u001b[0;32m      2\u001b[0m end \u001b[38;5;241m=\u001b[39mpd\u001b[38;5;241m.\u001b[39mTimestamp(\u001b[38;5;241m2013\u001b[39m, \u001b[38;5;241m1\u001b[39m, \u001b[38;5;241m27\u001b[39m)\n\u001b[1;32m----> 3\u001b[0m f \u001b[38;5;241m=\u001b[39m wb\u001b[38;5;241m.\u001b[39mDataReader(\u001b[38;5;124m\"\u001b[39m\u001b[38;5;124mF\u001b[39m\u001b[38;5;124m\"\u001b[39m, \u001b[38;5;124m'\u001b[39m\u001b[38;5;124myahoo\u001b[39m\u001b[38;5;124m'\u001b[39m, start, end)\n",
      "\u001b[1;31mAttributeError\u001b[0m: module 'pandas_datareader.wb' has no attribute 'DataReader'"
     ]
    }
   ],
   "source": [
    "start = pd.Timestamp(2010, 1, 1)\n",
    "end =pd.Timestamp(2013, 1, 27)\n",
    "f = wb.DataReader(\"F\", 'yahoo', start, end)\n"
   ]
  },
  {
   "cell_type": "code",
   "execution_count": null,
   "id": "8fd3c072-587c-4e2c-a61d-ac634fe9b4ed",
   "metadata": {},
   "outputs": [],
   "source": []
  }
 ],
 "metadata": {
  "kernelspec": {
   "display_name": "Python 3 (ipykernel)",
   "language": "python",
   "name": "python3"
  },
  "language_info": {
   "codemirror_mode": {
    "name": "ipython",
    "version": 3
   },
   "file_extension": ".py",
   "mimetype": "text/x-python",
   "name": "python",
   "nbconvert_exporter": "python",
   "pygments_lexer": "ipython3",
   "version": "3.11.5"
  }
 },
 "nbformat": 4,
 "nbformat_minor": 5
}
