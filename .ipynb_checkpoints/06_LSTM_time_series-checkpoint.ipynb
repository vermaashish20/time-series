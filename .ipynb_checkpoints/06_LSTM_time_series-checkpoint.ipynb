{
 "cells": [
  {
   "cell_type": "code",
   "execution_count": 26,
   "id": "9ea25dbf-998a-491a-b88d-a94c88d1e461",
   "metadata": {},
   "outputs": [
    {
     "name": "stderr",
     "output_type": "stream",
     "text": [
      "ERROR: Invalid requirement: ','\n"
     ]
    }
   ],
   "source": [
    "!pip install graphviz  pydot # internet connection"
   ]
  },
  {
   "cell_type": "code",
   "execution_count": 150,
   "id": "de11b094-d466-491f-b6d9-74be9edb45e4",
   "metadata": {},
   "outputs": [],
   "source": [
    "import numpy as np\n",
    "from tensorflow.keras.layers import LSTM,Dense,Flatten,Bidirectional,Conv1D,MaxPooling1D,TimeDistributed,GRU\n",
    "from tensorflow.keras.models import Sequential"
   ]
  },
  {
   "cell_type": "code",
   "execution_count": 14,
   "id": "f92c5f13-5235-4295-928f-f5e37dd0cab1",
   "metadata": {},
   "outputs": [],
   "source": [
    "\n",
    "def split_seq_uni(sequence, n_steps):\n",
    " X, y = list(), list()\n",
    " for i in range(len(sequence)):\n",
    " # find the end of this pattern\n",
    "     end_ix = i + n_steps\n",
    " # check if we are beyond the sequence\n",
    "     if end_ix > len(sequence)-1:\n",
    "         break\n",
    " # gather input and output parts of the pattern\n",
    "     seq_x, seq_y = sequence[i:end_ix], sequence[end_ix]\n",
    "     X.append(seq_x)\n",
    "     y.append(seq_y)\n",
    " return np.array(X), np.array(y)"
   ]
  },
  {
   "cell_type": "code",
   "execution_count": 15,
   "id": "2daea3e8-2f90-4ba4-b933-4c208dd1887f",
   "metadata": {},
   "outputs": [
    {
     "data": {
      "text/plain": [
       "(array([[10, 20, 30],\n",
       "        [20, 30, 40],\n",
       "        [30, 40, 50],\n",
       "        [40, 50, 60],\n",
       "        [50, 60, 70],\n",
       "        [60, 70, 80]]),\n",
       " array([40, 50, 60, 70, 80, 90]))"
      ]
     },
     "execution_count": 15,
     "metadata": {},
     "output_type": "execute_result"
    }
   ],
   "source": [
    "seq = np.arange(10,100,10)\n",
    "X_u,y_u = split_seq_uni(seq,3)\n",
    "X_u,y_u"
   ]
  },
  {
   "cell_type": "code",
   "execution_count": 71,
   "id": "43d6afd5-4cc5-4d43-9884-6b4d6d50ad5a",
   "metadata": {},
   "outputs": [
    {
     "data": {
      "text/plain": [
       "(array([[[10],\n",
       "         [20],\n",
       "         [30]],\n",
       " \n",
       "        [[20],\n",
       "         [30],\n",
       "         [40]],\n",
       " \n",
       "        [[30],\n",
       "         [40],\n",
       "         [50]],\n",
       " \n",
       "        [[40],\n",
       "         [50],\n",
       "         [60]],\n",
       " \n",
       "        [[50],\n",
       "         [60],\n",
       "         [70]],\n",
       " \n",
       "        [[60],\n",
       "         [70],\n",
       "         [80]]]),\n",
       " array([40, 50, 60, 70, 80, 90]))"
      ]
     },
     "execution_count": 71,
     "metadata": {},
     "output_type": "execute_result"
    }
   ],
   "source": [
    "X_u =X_u.reshape((6,3,1))\n",
    "X_u, y_u"
   ]
  },
  {
   "cell_type": "code",
   "execution_count": 130,
   "id": "658f13ef-8208-4744-bfbc-80349d461483",
   "metadata": {},
   "outputs": [],
   "source": [
    "# vanilla LSTM (single layer of LSTM)\n",
    "model_u = Sequential([\n",
    "                    LSTM(units=50,activation='relu',input_shape=(3,1)),\n",
    "                    Dense(1)\n",
    "])\n",
    "model_u.compile(optimizer='adam',loss='mse')\n"
   ]
  },
  {
   "cell_type": "code",
   "execution_count": 131,
   "id": "a16ca147-93b5-4292-a8fd-c809a431ad2b",
   "metadata": {},
   "outputs": [
    {
     "data": {
      "text/plain": [
       "<keras.src.callbacks.history.History at 0x226b7bdfb50>"
      ]
     },
     "execution_count": 131,
     "metadata": {},
     "output_type": "execute_result"
    }
   ],
   "source": [
    "model_u.fit(X_u,y_u,epochs=200,verbose=0)"
   ]
  },
  {
   "cell_type": "code",
   "execution_count": 70,
   "id": "1c6a5935-54ce-4c59-8823-7083e81c1d73",
   "metadata": {},
   "outputs": [],
   "source": [
    "# from tensorflow.keras.utils import plot_model\n",
    "\n",
    "# plot_model(model=model_u,to_file='model_u.png',show_shapes=True)"
   ]
  },
  {
   "cell_type": "code",
   "execution_count": 125,
   "id": "b78b51e0-7e0b-4b08-8bbd-6f542a14621d",
   "metadata": {},
   "outputs": [
    {
     "name": "stdout",
     "output_type": "stream",
     "text": [
      "len of 50 output lsmt : 50\n"
     ]
    },
    {
     "data": {
      "text/plain": [
       "array([ 0.01064658, -0.01006252,  0.13013838,  0.01244318,  0.04560298,\n",
       "       -0.02696866, -0.05306856,  0.0064901 ,  0.0142176 ,  0.04484726,\n",
       "       -0.11727192, -0.02007169,  0.0074876 , -0.00571401,  0.02053733,\n",
       "       -0.12737723, -0.04983486, -0.03764481, -0.06969544, -0.01421931,\n",
       "        0.1091444 ,  0.0705536 ,  0.02799868,  0.11710563, -0.02673638,\n",
       "        0.07489213, -0.02397363, -0.02697289, -0.02596477,  0.05533022,\n",
       "        0.14818265, -0.00896537, -0.10456731,  0.04573672,  0.02332997,\n",
       "       -0.0060164 , -0.13404189,  0.0470816 ,  0.06485945, -0.03698258,\n",
       "       -0.01964527,  0.00919132, -0.00351324, -0.0229111 ,  0.02763855,\n",
       "        0.09466839,  0.0756921 ,  0.05918523,  0.04220959,  0.02665261,\n",
       "        0.06722941, -0.01697467, -0.02750737,  0.01070735,  0.01192529,\n",
       "       -0.10391569,  0.02210684, -0.02667252,  0.03806778, -0.00136859,\n",
       "        0.043173  , -0.05768687,  0.00200996,  0.01036135, -0.10410276,\n",
       "       -0.00062394, -0.00859449, -0.03404905,  0.01160894,  0.06516073,\n",
       "        0.08267762, -0.0414043 ,  0.03582455,  0.10998425,  0.04090203,\n",
       "       -0.1206715 , -0.04827929, -0.08116017,  0.11949048,  0.02388435,\n",
       "       -0.00329403, -0.0002191 , -0.03212456, -0.02647337,  0.00624867,\n",
       "        0.02133217,  0.01674899, -0.11222341,  0.00722461, -0.04897419,\n",
       "       -0.00791777,  0.00792007, -0.00075565,  0.04631459, -0.11669628,\n",
       "       -0.07171324,  0.03515063, -0.00308884, -0.03394466,  0.00512082,\n",
       "        0.07865912,  0.20441851,  0.00947308, -0.01041605,  0.07393193,\n",
       "       -0.00306681,  0.00805982,  0.10076369,  0.0470915 ,  0.01206258,\n",
       "       -0.12678798,  0.03418759,  0.08213575,  0.03136298,  0.08556196,\n",
       "       -0.02444119, -0.06209917,  0.01947956,  0.09188761, -0.16703835,\n",
       "       -0.08505861, -0.0208236 , -0.14193037, -0.05129189,  0.12237503,\n",
       "       -0.17312463,  0.05182929,  0.03803051,  0.02806256, -0.06652204,\n",
       "        0.02814955, -0.09509141,  0.06493687,  0.09888895, -0.1111919 ,\n",
       "        0.07639422, -0.04835876,  0.15859362, -0.0707262 , -0.15486   ,\n",
       "        0.0634041 , -0.09258287,  0.07891677, -0.0367934 , -0.17195761,\n",
       "        0.04770083, -0.0473107 ,  0.02374928, -0.02775863,  0.10799095,\n",
       "        0.09044177, -0.00652616, -0.04328698, -0.13644196, -0.05190754,\n",
       "        0.03138094, -0.05342621, -0.09568612, -0.12783132, -0.00315078,\n",
       "        0.05303543, -0.05247755, -0.00450197,  0.02279096, -0.03899062,\n",
       "       -0.06170134,  0.03221285, -0.01369774,  0.02997273,  0.06934685,\n",
       "        0.01618901,  0.20700897,  0.02317918,  0.06593063,  0.08991459,\n",
       "       -0.01035254,  0.12241408, -0.08292302,  0.07120334,  0.01160259,\n",
       "       -0.06898598, -0.03235597, -0.00791978, -0.06978992, -0.01369127,\n",
       "       -0.03269095,  0.03512043,  0.06952824, -0.10452664, -0.16354665,\n",
       "        0.00402092,  0.07839467,  0.1124606 ,  0.0566726 ,  0.10112868,\n",
       "       -0.08387503, -0.06200103,  0.0798756 , -0.06167947,  0.05251734],\n",
       "      dtype=float32)"
      ]
     },
     "execution_count": 125,
     "metadata": {},
     "output_type": "execute_result"
    }
   ],
   "source": [
    "ls = model_u.get_layer('lstm')\n",
    "# len(ls.get_weights()[0][0])\n",
    "print(\"len of 50 output lsmt :\",len(ls.get_weights()[1])) # 50 cells->inside each cell 200 vector weights \n",
    "ls.get_weights()[1][0]"
   ]
  },
  {
   "cell_type": "code",
   "execution_count": 110,
   "id": "9c1e9bb6-7663-445f-bf91-3c657bb83f52",
   "metadata": {},
   "outputs": [
    {
     "data": {
      "text/html": [
       "<pre style=\"white-space:pre;overflow-x:auto;line-height:normal;font-family:Menlo,'DejaVu Sans Mono',consolas,'Courier New',monospace\"><span style=\"font-weight: bold\">Model: \"sequential\"</span>\n",
       "</pre>\n"
      ],
      "text/plain": [
       "\u001b[1mModel: \"sequential\"\u001b[0m\n"
      ]
     },
     "metadata": {},
     "output_type": "display_data"
    },
    {
     "data": {
      "text/html": [
       "<pre style=\"white-space:pre;overflow-x:auto;line-height:normal;font-family:Menlo,'DejaVu Sans Mono',consolas,'Courier New',monospace\">┏━━━━━━━━━━━━━━━━━━━━━━━━━━━━━━━━━━━━━━┳━━━━━━━━━━━━━━━━━━━━━━━━━━━━━┳━━━━━━━━━━━━━━━━━┓\n",
       "┃<span style=\"font-weight: bold\"> Layer (type)                         </span>┃<span style=\"font-weight: bold\"> Output Shape                </span>┃<span style=\"font-weight: bold\">         Param # </span>┃\n",
       "┡━━━━━━━━━━━━━━━━━━━━━━━━━━━━━━━━━━━━━━╇━━━━━━━━━━━━━━━━━━━━━━━━━━━━━╇━━━━━━━━━━━━━━━━━┩\n",
       "│ lstm (<span style=\"color: #0087ff; text-decoration-color: #0087ff\">LSTM</span>)                          │ (<span style=\"color: #00d7ff; text-decoration-color: #00d7ff\">None</span>, <span style=\"color: #00af00; text-decoration-color: #00af00\">50</span>)                  │          <span style=\"color: #00af00; text-decoration-color: #00af00\">10,400</span> │\n",
       "├──────────────────────────────────────┼─────────────────────────────┼─────────────────┤\n",
       "│ dense (<span style=\"color: #0087ff; text-decoration-color: #0087ff\">Dense</span>)                        │ (<span style=\"color: #00d7ff; text-decoration-color: #00d7ff\">None</span>, <span style=\"color: #00af00; text-decoration-color: #00af00\">1</span>)                   │              <span style=\"color: #00af00; text-decoration-color: #00af00\">51</span> │\n",
       "└──────────────────────────────────────┴─────────────────────────────┴─────────────────┘\n",
       "</pre>\n"
      ],
      "text/plain": [
       "┏━━━━━━━━━━━━━━━━━━━━━━━━━━━━━━━━━━━━━━┳━━━━━━━━━━━━━━━━━━━━━━━━━━━━━┳━━━━━━━━━━━━━━━━━┓\n",
       "┃\u001b[1m \u001b[0m\u001b[1mLayer (type)                        \u001b[0m\u001b[1m \u001b[0m┃\u001b[1m \u001b[0m\u001b[1mOutput Shape               \u001b[0m\u001b[1m \u001b[0m┃\u001b[1m \u001b[0m\u001b[1m        Param #\u001b[0m\u001b[1m \u001b[0m┃\n",
       "┡━━━━━━━━━━━━━━━━━━━━━━━━━━━━━━━━━━━━━━╇━━━━━━━━━━━━━━━━━━━━━━━━━━━━━╇━━━━━━━━━━━━━━━━━┩\n",
       "│ lstm (\u001b[38;5;33mLSTM\u001b[0m)                          │ (\u001b[38;5;45mNone\u001b[0m, \u001b[38;5;34m50\u001b[0m)                  │          \u001b[38;5;34m10,400\u001b[0m │\n",
       "├──────────────────────────────────────┼─────────────────────────────┼─────────────────┤\n",
       "│ dense (\u001b[38;5;33mDense\u001b[0m)                        │ (\u001b[38;5;45mNone\u001b[0m, \u001b[38;5;34m1\u001b[0m)                   │              \u001b[38;5;34m51\u001b[0m │\n",
       "└──────────────────────────────────────┴─────────────────────────────┴─────────────────┘\n"
      ]
     },
     "metadata": {},
     "output_type": "display_data"
    },
    {
     "data": {
      "text/html": [
       "<pre style=\"white-space:pre;overflow-x:auto;line-height:normal;font-family:Menlo,'DejaVu Sans Mono',consolas,'Courier New',monospace\"><span style=\"font-weight: bold\"> Total params: </span><span style=\"color: #00af00; text-decoration-color: #00af00\">31,355</span> (122.48 KB)\n",
       "</pre>\n"
      ],
      "text/plain": [
       "\u001b[1m Total params: \u001b[0m\u001b[38;5;34m31,355\u001b[0m (122.48 KB)\n"
      ]
     },
     "metadata": {},
     "output_type": "display_data"
    },
    {
     "data": {
      "text/html": [
       "<pre style=\"white-space:pre;overflow-x:auto;line-height:normal;font-family:Menlo,'DejaVu Sans Mono',consolas,'Courier New',monospace\"><span style=\"font-weight: bold\"> Trainable params: </span><span style=\"color: #00af00; text-decoration-color: #00af00\">10,451</span> (40.82 KB)\n",
       "</pre>\n"
      ],
      "text/plain": [
       "\u001b[1m Trainable params: \u001b[0m\u001b[38;5;34m10,451\u001b[0m (40.82 KB)\n"
      ]
     },
     "metadata": {},
     "output_type": "display_data"
    },
    {
     "data": {
      "text/html": [
       "<pre style=\"white-space:pre;overflow-x:auto;line-height:normal;font-family:Menlo,'DejaVu Sans Mono',consolas,'Courier New',monospace\"><span style=\"font-weight: bold\"> Non-trainable params: </span><span style=\"color: #00af00; text-decoration-color: #00af00\">0</span> (0.00 B)\n",
       "</pre>\n"
      ],
      "text/plain": [
       "\u001b[1m Non-trainable params: \u001b[0m\u001b[38;5;34m0\u001b[0m (0.00 B)\n"
      ]
     },
     "metadata": {},
     "output_type": "display_data"
    },
    {
     "data": {
      "text/html": [
       "<pre style=\"white-space:pre;overflow-x:auto;line-height:normal;font-family:Menlo,'DejaVu Sans Mono',consolas,'Courier New',monospace\"><span style=\"font-weight: bold\"> Optimizer params: </span><span style=\"color: #00af00; text-decoration-color: #00af00\">20,904</span> (81.66 KB)\n",
       "</pre>\n"
      ],
      "text/plain": [
       "\u001b[1m Optimizer params: \u001b[0m\u001b[38;5;34m20,904\u001b[0m (81.66 KB)\n"
      ]
     },
     "metadata": {},
     "output_type": "display_data"
    }
   ],
   "source": [
    "model_u.summary()"
   ]
  },
  {
   "cell_type": "code",
   "execution_count": 21,
   "id": "2b10f83e-5e89-435e-b9c4-f816a7f047a1",
   "metadata": {},
   "outputs": [
    {
     "name": "stdout",
     "output_type": "stream",
     "text": [
      "[[102.62571]]\n"
     ]
    }
   ],
   "source": [
    "x_input = np.array([70, 80, 90])\n",
    "x_input = x_input.reshape((1, 3, 1))\n",
    "yhat_u = model_u.predict(x_input, verbose=0)\n",
    "print(yhat_u)"
   ]
  },
  {
   "cell_type": "markdown",
   "id": "b56496c7-61c1-4c14-bd50-67d1d6c42161",
   "metadata": {},
   "source": [
    "##### Stacked-LSTM/Deep LSTM"
   ]
  },
  {
   "cell_type": "code",
   "execution_count": 97,
   "id": "f7db5856-2da2-48bd-8ff9-0efa5c3a91c8",
   "metadata": {},
   "outputs": [],
   "source": [
    "model_stack_u = Sequential([\n",
    "                LSTM(50,activation='relu',input_shape=(3,1),return_sequences=True),\n",
    "                LSTM(50,activation='relu'),\n",
    "                Dense(1)\n",
    "])\n",
    "model_stack_u.compile(optimizer='adam', loss='mse')"
   ]
  },
  {
   "cell_type": "code",
   "execution_count": 31,
   "id": "d0848d9b-e2ac-4040-a7ec-f1967d6a9950",
   "metadata": {},
   "outputs": [
    {
     "data": {
      "text/plain": [
       "<keras.src.callbacks.history.History at 0x226aaa35cd0>"
      ]
     },
     "execution_count": 31,
     "metadata": {},
     "output_type": "execute_result"
    }
   ],
   "source": [
    "model_stack_u.fit(X_u,y_u,epochs=200,verbose=0)"
   ]
  },
  {
   "cell_type": "code",
   "execution_count": 96,
   "id": "d01e61d4-9872-417f-9b0b-4e649bc50442",
   "metadata": {},
   "outputs": [
    {
     "data": {
      "text/html": [
       "<pre style=\"white-space:pre;overflow-x:auto;line-height:normal;font-family:Menlo,'DejaVu Sans Mono',consolas,'Courier New',monospace\"><span style=\"font-weight: bold\">Model: \"sequential_2\"</span>\n",
       "</pre>\n"
      ],
      "text/plain": [
       "\u001b[1mModel: \"sequential_2\"\u001b[0m\n"
      ]
     },
     "metadata": {},
     "output_type": "display_data"
    },
    {
     "data": {
      "text/html": [
       "<pre style=\"white-space:pre;overflow-x:auto;line-height:normal;font-family:Menlo,'DejaVu Sans Mono',consolas,'Courier New',monospace\">┏━━━━━━━━━━━━━━━━━━━━━━━━━━━━━━━━━━━━━━┳━━━━━━━━━━━━━━━━━━━━━━━━━━━━━┳━━━━━━━━━━━━━━━━━┓\n",
       "┃<span style=\"font-weight: bold\"> Layer (type)                         </span>┃<span style=\"font-weight: bold\"> Output Shape                </span>┃<span style=\"font-weight: bold\">         Param # </span>┃\n",
       "┡━━━━━━━━━━━━━━━━━━━━━━━━━━━━━━━━━━━━━━╇━━━━━━━━━━━━━━━━━━━━━━━━━━━━━╇━━━━━━━━━━━━━━━━━┩\n",
       "│ lstm_4 (<span style=\"color: #0087ff; text-decoration-color: #0087ff\">LSTM</span>)                        │ (<span style=\"color: #00d7ff; text-decoration-color: #00d7ff\">None</span>, <span style=\"color: #00af00; text-decoration-color: #00af00\">3</span>, <span style=\"color: #00af00; text-decoration-color: #00af00\">50</span>)               │          <span style=\"color: #00af00; text-decoration-color: #00af00\">10,400</span> │\n",
       "├──────────────────────────────────────┼─────────────────────────────┼─────────────────┤\n",
       "│ lstm_5 (<span style=\"color: #0087ff; text-decoration-color: #0087ff\">LSTM</span>)                        │ (<span style=\"color: #00d7ff; text-decoration-color: #00d7ff\">None</span>, <span style=\"color: #00af00; text-decoration-color: #00af00\">50</span>)                  │          <span style=\"color: #00af00; text-decoration-color: #00af00\">20,200</span> │\n",
       "├──────────────────────────────────────┼─────────────────────────────┼─────────────────┤\n",
       "│ dense_2 (<span style=\"color: #0087ff; text-decoration-color: #0087ff\">Dense</span>)                      │ (<span style=\"color: #00d7ff; text-decoration-color: #00d7ff\">None</span>, <span style=\"color: #00af00; text-decoration-color: #00af00\">1</span>)                   │              <span style=\"color: #00af00; text-decoration-color: #00af00\">51</span> │\n",
       "└──────────────────────────────────────┴─────────────────────────────┴─────────────────┘\n",
       "</pre>\n"
      ],
      "text/plain": [
       "┏━━━━━━━━━━━━━━━━━━━━━━━━━━━━━━━━━━━━━━┳━━━━━━━━━━━━━━━━━━━━━━━━━━━━━┳━━━━━━━━━━━━━━━━━┓\n",
       "┃\u001b[1m \u001b[0m\u001b[1mLayer (type)                        \u001b[0m\u001b[1m \u001b[0m┃\u001b[1m \u001b[0m\u001b[1mOutput Shape               \u001b[0m\u001b[1m \u001b[0m┃\u001b[1m \u001b[0m\u001b[1m        Param #\u001b[0m\u001b[1m \u001b[0m┃\n",
       "┡━━━━━━━━━━━━━━━━━━━━━━━━━━━━━━━━━━━━━━╇━━━━━━━━━━━━━━━━━━━━━━━━━━━━━╇━━━━━━━━━━━━━━━━━┩\n",
       "│ lstm_4 (\u001b[38;5;33mLSTM\u001b[0m)                        │ (\u001b[38;5;45mNone\u001b[0m, \u001b[38;5;34m3\u001b[0m, \u001b[38;5;34m50\u001b[0m)               │          \u001b[38;5;34m10,400\u001b[0m │\n",
       "├──────────────────────────────────────┼─────────────────────────────┼─────────────────┤\n",
       "│ lstm_5 (\u001b[38;5;33mLSTM\u001b[0m)                        │ (\u001b[38;5;45mNone\u001b[0m, \u001b[38;5;34m50\u001b[0m)                  │          \u001b[38;5;34m20,200\u001b[0m │\n",
       "├──────────────────────────────────────┼─────────────────────────────┼─────────────────┤\n",
       "│ dense_2 (\u001b[38;5;33mDense\u001b[0m)                      │ (\u001b[38;5;45mNone\u001b[0m, \u001b[38;5;34m1\u001b[0m)                   │              \u001b[38;5;34m51\u001b[0m │\n",
       "└──────────────────────────────────────┴─────────────────────────────┴─────────────────┘\n"
      ]
     },
     "metadata": {},
     "output_type": "display_data"
    },
    {
     "data": {
      "text/html": [
       "<pre style=\"white-space:pre;overflow-x:auto;line-height:normal;font-family:Menlo,'DejaVu Sans Mono',consolas,'Courier New',monospace\"><span style=\"font-weight: bold\"> Total params: </span><span style=\"color: #00af00; text-decoration-color: #00af00\">91,955</span> (359.20 KB)\n",
       "</pre>\n"
      ],
      "text/plain": [
       "\u001b[1m Total params: \u001b[0m\u001b[38;5;34m91,955\u001b[0m (359.20 KB)\n"
      ]
     },
     "metadata": {},
     "output_type": "display_data"
    },
    {
     "data": {
      "text/html": [
       "<pre style=\"white-space:pre;overflow-x:auto;line-height:normal;font-family:Menlo,'DejaVu Sans Mono',consolas,'Courier New',monospace\"><span style=\"font-weight: bold\"> Trainable params: </span><span style=\"color: #00af00; text-decoration-color: #00af00\">30,651</span> (119.73 KB)\n",
       "</pre>\n"
      ],
      "text/plain": [
       "\u001b[1m Trainable params: \u001b[0m\u001b[38;5;34m30,651\u001b[0m (119.73 KB)\n"
      ]
     },
     "metadata": {},
     "output_type": "display_data"
    },
    {
     "data": {
      "text/html": [
       "<pre style=\"white-space:pre;overflow-x:auto;line-height:normal;font-family:Menlo,'DejaVu Sans Mono',consolas,'Courier New',monospace\"><span style=\"font-weight: bold\"> Non-trainable params: </span><span style=\"color: #00af00; text-decoration-color: #00af00\">0</span> (0.00 B)\n",
       "</pre>\n"
      ],
      "text/plain": [
       "\u001b[1m Non-trainable params: \u001b[0m\u001b[38;5;34m0\u001b[0m (0.00 B)\n"
      ]
     },
     "metadata": {},
     "output_type": "display_data"
    },
    {
     "data": {
      "text/html": [
       "<pre style=\"white-space:pre;overflow-x:auto;line-height:normal;font-family:Menlo,'DejaVu Sans Mono',consolas,'Courier New',monospace\"><span style=\"font-weight: bold\"> Optimizer params: </span><span style=\"color: #00af00; text-decoration-color: #00af00\">61,304</span> (239.47 KB)\n",
       "</pre>\n"
      ],
      "text/plain": [
       "\u001b[1m Optimizer params: \u001b[0m\u001b[38;5;34m61,304\u001b[0m (239.47 KB)\n"
      ]
     },
     "metadata": {},
     "output_type": "display_data"
    }
   ],
   "source": [
    "model_stack_u.summary()"
   ]
  },
  {
   "cell_type": "code",
   "execution_count": null,
   "id": "a0cd7115-f6c5-4b30-ad65-d9cfa3b0dccb",
   "metadata": {},
   "outputs": [],
   "source": []
  },
  {
   "cell_type": "code",
   "execution_count": 33,
   "id": "bd2ab458-1235-4187-8e17-29dc4f86f0ed",
   "metadata": {},
   "outputs": [
    {
     "name": "stdout",
     "output_type": "stream",
     "text": [
      "\u001b[1m1/1\u001b[0m \u001b[32m━━━━━━━━━━━━━━━━━━━━\u001b[0m\u001b[37m\u001b[0m \u001b[1m0s\u001b[0m 8ms/step\n"
     ]
    },
    {
     "data": {
      "text/plain": [
       "array([[104.59154]], dtype=float32)"
      ]
     },
     "execution_count": 33,
     "metadata": {},
     "output_type": "execute_result"
    }
   ],
   "source": [
    "yhat_st_u = model_stack_u.predict(x_input)\n",
    "yhat_st_u"
   ]
  },
  {
   "cell_type": "markdown",
   "id": "61a292ce-143a-4a3a-ae83-a6843578a7a8",
   "metadata": {},
   "source": [
    "##### Bi-directional LSTM"
   ]
  },
  {
   "cell_type": "code",
   "execution_count": 67,
   "id": "87f6588c-6626-4e30-8caa-e7425b0e8057",
   "metadata": {},
   "outputs": [
    {
     "name": "stderr",
     "output_type": "stream",
     "text": [
      "D:\\ML\\Tools\\Lib\\site-packages\\keras\\src\\layers\\rnn\\rnn.py:204: UserWarning: Do not pass an `input_shape`/`input_dim` argument to a layer. When using Sequential models, prefer using an `Input(shape)` object as the first layer in the model instead.\n",
      "  super().__init__(**kwargs)\n"
     ]
    }
   ],
   "source": [
    "# Bidirectional-LSTM (single layer of LSTM)\n",
    "model_bi_u = Sequential([\n",
    "                    Bidirectional(LSTM(units=50,activation='relu',input_shape=(3,1))),\n",
    "                    Dense(1)\n",
    "])\n",
    "model_bi_u.compile(optimizer='adam',loss='mse')\n"
   ]
  },
  {
   "cell_type": "code",
   "execution_count": 68,
   "id": "bf1e4e05-3ee2-476a-9865-d4b0d18e92af",
   "metadata": {},
   "outputs": [
    {
     "name": "stdout",
     "output_type": "stream",
     "text": [
      "\u001b[1m1/1\u001b[0m \u001b[32m━━━━━━━━━━━━━━━━━━━━\u001b[0m\u001b[37m\u001b[0m \u001b[1m2s\u001b[0m 2s/step - loss: 5176.5786\n"
     ]
    },
    {
     "data": {
      "text/plain": [
       "<keras.src.callbacks.history.History at 0x226ba3e4fd0>"
      ]
     },
     "execution_count": 68,
     "metadata": {},
     "output_type": "execute_result"
    }
   ],
   "source": [
    "model_bi_u.fit(X_u,y_u)"
   ]
  },
  {
   "cell_type": "code",
   "execution_count": 69,
   "id": "fc0f88d9-f89e-4dbc-950c-96b45c5d738f",
   "metadata": {},
   "outputs": [
    {
     "name": "stdout",
     "output_type": "stream",
     "text": [
      "\u001b[1m1/1\u001b[0m \u001b[32m━━━━━━━━━━━━━━━━━━━━\u001b[0m\u001b[37m\u001b[0m \u001b[1m0s\u001b[0m 16ms/step\n"
     ]
    },
    {
     "data": {
      "text/plain": [
       "array([[104.59154]], dtype=float32)"
      ]
     },
     "execution_count": 69,
     "metadata": {},
     "output_type": "execute_result"
    }
   ],
   "source": [
    "yhat_bi_u = model_stack_u.predict(x_input)\n",
    "yhat_bi_u"
   ]
  },
  {
   "cell_type": "markdown",
   "id": "6a344bb2-09db-45c9-9670-a617c2782f19",
   "metadata": {},
   "source": [
    "##### Conv LSTM with TimeDistributed, return_sequence=True"
   ]
  },
  {
   "cell_type": "code",
   "execution_count": 78,
   "id": "1faec1a4-a4fb-4d6d-9f66-db1bf6a8a5f1",
   "metadata": {},
   "outputs": [
    {
     "data": {
      "text/plain": [
       "(array([[10, 20, 30, 40],\n",
       "        [20, 30, 40, 50],\n",
       "        [30, 40, 50, 60],\n",
       "        [40, 50, 60, 70],\n",
       "        [50, 60, 70, 80]]),\n",
       " array([50, 60, 70, 80, 90]))"
      ]
     },
     "execution_count": 78,
     "metadata": {},
     "output_type": "execute_result"
    }
   ],
   "source": [
    "\n",
    "X_ut,y_ut = split_seq_uni(seq,4)\n",
    "X_ut,y_ut"
   ]
  },
  {
   "cell_type": "code",
   "execution_count": 80,
   "id": "cacb1a53-2e85-4c80-a673-2c3321e486a4",
   "metadata": {},
   "outputs": [
    {
     "name": "stdout",
     "output_type": "stream",
     "text": [
      "(6, 3, 1)\n"
     ]
    },
    {
     "data": {
      "text/plain": [
       "array([[[[10],\n",
       "         [20]],\n",
       "\n",
       "        [[30],\n",
       "         [40]]],\n",
       "\n",
       "\n",
       "       [[[20],\n",
       "         [30]],\n",
       "\n",
       "        [[40],\n",
       "         [50]]],\n",
       "\n",
       "\n",
       "       [[[30],\n",
       "         [40]],\n",
       "\n",
       "        [[50],\n",
       "         [60]]],\n",
       "\n",
       "\n",
       "       [[[40],\n",
       "         [50]],\n",
       "\n",
       "        [[60],\n",
       "         [70]]],\n",
       "\n",
       "\n",
       "       [[[50],\n",
       "         [60]],\n",
       "\n",
       "        [[70],\n",
       "         [80]]]])"
      ]
     },
     "execution_count": 80,
     "metadata": {},
     "output_type": "execute_result"
    }
   ],
   "source": [
    "n_feat_u = 1\n",
    "n_seq_u = 2\n",
    "n_steps_u = 2\n",
    "print(X_u.shape)\n",
    "X_ut = X_ut.reshape((X_ut.shape[0],n_seq_u,n_steps_u,n_feat_u))\n",
    "X_ut"
   ]
  },
  {
   "cell_type": "code",
   "execution_count": 93,
   "id": "ec1a6348-99f8-4dec-a48e-dd453c722606",
   "metadata": {},
   "outputs": [
    {
     "name": "stderr",
     "output_type": "stream",
     "text": [
      "D:\\ML\\Tools\\Lib\\site-packages\\keras\\src\\layers\\core\\wrapper.py:27: UserWarning: Do not pass an `input_shape`/`input_dim` argument to a layer. When using Sequential models, prefer using an `Input(shape)` object as the first layer in the model instead.\n",
      "  super().__init__(**kwargs)\n"
     ]
    }
   ],
   "source": [
    "# This wrapper allows to apply a layer to every temporal slice of an input.\n",
    "\n",
    "# Every input should be at least 3D, and the dimension of index one of the\n",
    "# first input will be considered to be the temporal dimension.\n",
    "\n",
    "model_cl = Sequential([\n",
    "            TimeDistributed(Conv1D(filters=64,kernel_size=1,activation='relu'),\n",
    "                  input_shape=(None,n_steps_u,n_feat_u)),\n",
    "            TimeDistributed(MaxPooling1D(pool_size=2)),\n",
    "            TimeDistributed(Flatten()),\n",
    "            LSTM(50,activation='relu'),\n",
    "            Dense(1)\n",
    "])\n",
    "model_cl.compile(optimizer='adam',loss='mse')"
   ]
  },
  {
   "cell_type": "code",
   "execution_count": 94,
   "id": "4a5297d8-b0ec-431d-8ac4-623cdb2f9d72",
   "metadata": {},
   "outputs": [
    {
     "data": {
      "text/html": [
       "<pre style=\"white-space:pre;overflow-x:auto;line-height:normal;font-family:Menlo,'DejaVu Sans Mono',consolas,'Courier New',monospace\"><span style=\"font-weight: bold\">Model: \"sequential_7\"</span>\n",
       "</pre>\n"
      ],
      "text/plain": [
       "\u001b[1mModel: \"sequential_7\"\u001b[0m\n"
      ]
     },
     "metadata": {},
     "output_type": "display_data"
    },
    {
     "data": {
      "text/html": [
       "<pre style=\"white-space:pre;overflow-x:auto;line-height:normal;font-family:Menlo,'DejaVu Sans Mono',consolas,'Courier New',monospace\">┏━━━━━━━━━━━━━━━━━━━━━━━━━━━━━━━━━━━━━━┳━━━━━━━━━━━━━━━━━━━━━━━━━━━━━┳━━━━━━━━━━━━━━━━━┓\n",
       "┃<span style=\"font-weight: bold\"> Layer (type)                         </span>┃<span style=\"font-weight: bold\"> Output Shape                </span>┃<span style=\"font-weight: bold\">         Param # </span>┃\n",
       "┡━━━━━━━━━━━━━━━━━━━━━━━━━━━━━━━━━━━━━━╇━━━━━━━━━━━━━━━━━━━━━━━━━━━━━╇━━━━━━━━━━━━━━━━━┩\n",
       "│ time_distributed_3 (<span style=\"color: #0087ff; text-decoration-color: #0087ff\">TimeDistributed</span>) │ (<span style=\"color: #00d7ff; text-decoration-color: #00d7ff\">None</span>, <span style=\"color: #00d7ff; text-decoration-color: #00d7ff\">None</span>, <span style=\"color: #00af00; text-decoration-color: #00af00\">2</span>, <span style=\"color: #00af00; text-decoration-color: #00af00\">64</span>)         │             <span style=\"color: #00af00; text-decoration-color: #00af00\">128</span> │\n",
       "├──────────────────────────────────────┼─────────────────────────────┼─────────────────┤\n",
       "│ time_distributed_4 (<span style=\"color: #0087ff; text-decoration-color: #0087ff\">TimeDistributed</span>) │ (<span style=\"color: #00d7ff; text-decoration-color: #00d7ff\">None</span>, <span style=\"color: #00d7ff; text-decoration-color: #00d7ff\">None</span>, <span style=\"color: #00af00; text-decoration-color: #00af00\">1</span>, <span style=\"color: #00af00; text-decoration-color: #00af00\">64</span>)         │               <span style=\"color: #00af00; text-decoration-color: #00af00\">0</span> │\n",
       "├──────────────────────────────────────┼─────────────────────────────┼─────────────────┤\n",
       "│ time_distributed_5 (<span style=\"color: #0087ff; text-decoration-color: #0087ff\">TimeDistributed</span>) │ (<span style=\"color: #00d7ff; text-decoration-color: #00d7ff\">None</span>, <span style=\"color: #00d7ff; text-decoration-color: #00d7ff\">None</span>, <span style=\"color: #00af00; text-decoration-color: #00af00\">64</span>)            │               <span style=\"color: #00af00; text-decoration-color: #00af00\">0</span> │\n",
       "├──────────────────────────────────────┼─────────────────────────────┼─────────────────┤\n",
       "│ lstm_10 (<span style=\"color: #0087ff; text-decoration-color: #0087ff\">LSTM</span>)                       │ (<span style=\"color: #00d7ff; text-decoration-color: #00d7ff\">None</span>, <span style=\"color: #00af00; text-decoration-color: #00af00\">50</span>)                  │          <span style=\"color: #00af00; text-decoration-color: #00af00\">23,000</span> │\n",
       "├──────────────────────────────────────┼─────────────────────────────┼─────────────────┤\n",
       "│ dense_7 (<span style=\"color: #0087ff; text-decoration-color: #0087ff\">Dense</span>)                      │ (<span style=\"color: #00d7ff; text-decoration-color: #00d7ff\">None</span>, <span style=\"color: #00af00; text-decoration-color: #00af00\">1</span>)                   │              <span style=\"color: #00af00; text-decoration-color: #00af00\">51</span> │\n",
       "└──────────────────────────────────────┴─────────────────────────────┴─────────────────┘\n",
       "</pre>\n"
      ],
      "text/plain": [
       "┏━━━━━━━━━━━━━━━━━━━━━━━━━━━━━━━━━━━━━━┳━━━━━━━━━━━━━━━━━━━━━━━━━━━━━┳━━━━━━━━━━━━━━━━━┓\n",
       "┃\u001b[1m \u001b[0m\u001b[1mLayer (type)                        \u001b[0m\u001b[1m \u001b[0m┃\u001b[1m \u001b[0m\u001b[1mOutput Shape               \u001b[0m\u001b[1m \u001b[0m┃\u001b[1m \u001b[0m\u001b[1m        Param #\u001b[0m\u001b[1m \u001b[0m┃\n",
       "┡━━━━━━━━━━━━━━━━━━━━━━━━━━━━━━━━━━━━━━╇━━━━━━━━━━━━━━━━━━━━━━━━━━━━━╇━━━━━━━━━━━━━━━━━┩\n",
       "│ time_distributed_3 (\u001b[38;5;33mTimeDistributed\u001b[0m) │ (\u001b[38;5;45mNone\u001b[0m, \u001b[38;5;45mNone\u001b[0m, \u001b[38;5;34m2\u001b[0m, \u001b[38;5;34m64\u001b[0m)         │             \u001b[38;5;34m128\u001b[0m │\n",
       "├──────────────────────────────────────┼─────────────────────────────┼─────────────────┤\n",
       "│ time_distributed_4 (\u001b[38;5;33mTimeDistributed\u001b[0m) │ (\u001b[38;5;45mNone\u001b[0m, \u001b[38;5;45mNone\u001b[0m, \u001b[38;5;34m1\u001b[0m, \u001b[38;5;34m64\u001b[0m)         │               \u001b[38;5;34m0\u001b[0m │\n",
       "├──────────────────────────────────────┼─────────────────────────────┼─────────────────┤\n",
       "│ time_distributed_5 (\u001b[38;5;33mTimeDistributed\u001b[0m) │ (\u001b[38;5;45mNone\u001b[0m, \u001b[38;5;45mNone\u001b[0m, \u001b[38;5;34m64\u001b[0m)            │               \u001b[38;5;34m0\u001b[0m │\n",
       "├──────────────────────────────────────┼─────────────────────────────┼─────────────────┤\n",
       "│ lstm_10 (\u001b[38;5;33mLSTM\u001b[0m)                       │ (\u001b[38;5;45mNone\u001b[0m, \u001b[38;5;34m50\u001b[0m)                  │          \u001b[38;5;34m23,000\u001b[0m │\n",
       "├──────────────────────────────────────┼─────────────────────────────┼─────────────────┤\n",
       "│ dense_7 (\u001b[38;5;33mDense\u001b[0m)                      │ (\u001b[38;5;45mNone\u001b[0m, \u001b[38;5;34m1\u001b[0m)                   │              \u001b[38;5;34m51\u001b[0m │\n",
       "└──────────────────────────────────────┴─────────────────────────────┴─────────────────┘\n"
      ]
     },
     "metadata": {},
     "output_type": "display_data"
    },
    {
     "data": {
      "text/html": [
       "<pre style=\"white-space:pre;overflow-x:auto;line-height:normal;font-family:Menlo,'DejaVu Sans Mono',consolas,'Courier New',monospace\"><span style=\"font-weight: bold\"> Total params: </span><span style=\"color: #00af00; text-decoration-color: #00af00\">23,179</span> (90.54 KB)\n",
       "</pre>\n"
      ],
      "text/plain": [
       "\u001b[1m Total params: \u001b[0m\u001b[38;5;34m23,179\u001b[0m (90.54 KB)\n"
      ]
     },
     "metadata": {},
     "output_type": "display_data"
    },
    {
     "data": {
      "text/html": [
       "<pre style=\"white-space:pre;overflow-x:auto;line-height:normal;font-family:Menlo,'DejaVu Sans Mono',consolas,'Courier New',monospace\"><span style=\"font-weight: bold\"> Trainable params: </span><span style=\"color: #00af00; text-decoration-color: #00af00\">23,179</span> (90.54 KB)\n",
       "</pre>\n"
      ],
      "text/plain": [
       "\u001b[1m Trainable params: \u001b[0m\u001b[38;5;34m23,179\u001b[0m (90.54 KB)\n"
      ]
     },
     "metadata": {},
     "output_type": "display_data"
    },
    {
     "data": {
      "text/html": [
       "<pre style=\"white-space:pre;overflow-x:auto;line-height:normal;font-family:Menlo,'DejaVu Sans Mono',consolas,'Courier New',monospace\"><span style=\"font-weight: bold\"> Non-trainable params: </span><span style=\"color: #00af00; text-decoration-color: #00af00\">0</span> (0.00 B)\n",
       "</pre>\n"
      ],
      "text/plain": [
       "\u001b[1m Non-trainable params: \u001b[0m\u001b[38;5;34m0\u001b[0m (0.00 B)\n"
      ]
     },
     "metadata": {},
     "output_type": "display_data"
    }
   ],
   "source": [
    "model_cl.summary()"
   ]
  },
  {
   "cell_type": "code",
   "execution_count": 133,
   "id": "9fb1ac6a-2f5b-40e1-abd7-45a92686dfd5",
   "metadata": {},
   "outputs": [
    {
     "data": {
      "text/plain": [
       "<keras.src.callbacks.history.History at 0x226c09b8210>"
      ]
     },
     "execution_count": 133,
     "metadata": {},
     "output_type": "execute_result"
    }
   ],
   "source": [
    "model_cl.fit(X_ut,y_ut,epochs=200,verbose=0)"
   ]
  },
  {
   "cell_type": "code",
   "execution_count": 136,
   "id": "ee6d3efb-7c8f-4f77-8474-c0652a6787a9",
   "metadata": {},
   "outputs": [
    {
     "name": "stdout",
     "output_type": "stream",
     "text": [
      "[[102.0694]]\n"
     ]
    }
   ],
   "source": [
    "x_icl = np.array([60, 70, 80, 90])\n",
    "x_icl = x_icl.reshape((1, 2, 2, 1))\n",
    "yhat_cl = model_cl.predict(x_icl, verbose=0)\n",
    "print(yhat_cl)\n"
   ]
  },
  {
   "cell_type": "markdown",
   "id": "3d196fff-4405-4ce8-829e-33cca7efb838",
   "metadata": {},
   "source": [
    "#### Multivariate one-time models\n",
    "\n",
    "- input series->one-step\n",
    "- parallel series->one-step for every variable"
   ]
  },
  {
   "cell_type": "code",
   "execution_count": 142,
   "id": "78d64bac-16f1-4f8a-a268-dfd99718186f",
   "metadata": {},
   "outputs": [
    {
     "data": {
      "text/plain": [
       "(array([[[ 10,  15,  25],\n",
       "         [ 20,  25,  45],\n",
       "         [ 30,  35,  65]],\n",
       " \n",
       "        [[ 20,  25,  45],\n",
       "         [ 30,  35,  65],\n",
       "         [ 40,  45,  85]],\n",
       " \n",
       "        [[ 30,  35,  65],\n",
       "         [ 40,  45,  85],\n",
       "         [ 50,  55, 105]],\n",
       " \n",
       "        [[ 40,  45,  85],\n",
       "         [ 50,  55, 105],\n",
       "         [ 60,  65, 125]],\n",
       " \n",
       "        [[ 50,  55, 105],\n",
       "         [ 60,  65, 125],\n",
       "         [ 70,  75, 145]],\n",
       " \n",
       "        [[ 60,  65, 125],\n",
       "         [ 70,  75, 145],\n",
       "         [ 80,  85, 165]]]),\n",
       " array([[ 40,  45,  85],\n",
       "        [ 50,  55, 105],\n",
       "        [ 60,  65, 125],\n",
       "        [ 70,  75, 145],\n",
       "        [ 80,  85, 165],\n",
       "        [ 90,  95, 185]]))"
      ]
     },
     "execution_count": 142,
     "metadata": {},
     "output_type": "execute_result"
    }
   ],
   "source": [
    "def split_seq_par(sequences,n_steps):\n",
    " X,y=list(),list()\n",
    " for i in range(len(sequences)):\n",
    "     end_ix=i+n_steps\n",
    "     if end_ix > len(sequences)-1:\n",
    "         break\n",
    "     seq_x,seq_y=sequences[i:end_ix,:],sequences[end_ix,:]\n",
    "     X.append(seq_x)\n",
    "     y.append(seq_y)\n",
    " return np.array(X),np.array(y)\n",
    " \n",
    "in_seq1=np.array([10,20,30,40,50,60,70,80,90])\n",
    "in_seq2=np.array([15,25,35,45,55,65,75,85,95])\n",
    "out_seq=np.array([in_seq1[i]+in_seq2[i]for i in range(len(in_seq1))])\n",
    "\n",
    "in_seq1 = in_seq1.reshape((len(in_seq1), 1))\n",
    "in_seq2 = in_seq2.reshape((len(in_seq2), 1))\n",
    "out_seq = out_seq.reshape((len(out_seq), 1))\n",
    "\n",
    "dataset = np.hstack((in_seq1, in_seq2, out_seq))\n",
    " # choose a number of time steps\n",
    "n_steps = 3\n",
    " # convert into input/output\n",
    "X, y = split_seq_par(dataset, n_steps)\n",
    "X,y"
   ]
  },
  {
   "cell_type": "code",
   "execution_count": 144,
   "id": "b47bc41b-8df8-408b-898b-35ecb93ea607",
   "metadata": {},
   "outputs": [
    {
     "name": "stderr",
     "output_type": "stream",
     "text": [
      "D:\\ML\\Tools\\Lib\\site-packages\\keras\\src\\layers\\rnn\\rnn.py:204: UserWarning: Do not pass an `input_shape`/`input_dim` argument to a layer. When using Sequential models, prefer using an `Input(shape)` object as the first layer in the model instead.\n",
      "  super().__init__(**kwargs)\n"
     ]
    }
   ],
   "source": [
    "model_par = Sequential([\n",
    "            LSTM(units=100,activation='relu',return_sequences=True,input_shape=(3,3)),\n",
    "            LSTM(units=100,activation='relu'),\n",
    "            Dense(3)\n",
    "])\n",
    "model_par.compile(optimizer='adam',loss='mse')\n"
   ]
  },
  {
   "cell_type": "code",
   "execution_count": 145,
   "id": "0593c393-1bf9-4e38-838b-de04c9c1697e",
   "metadata": {},
   "outputs": [
    {
     "data": {
      "text/plain": [
       "<keras.src.callbacks.history.History at 0x226b9befb50>"
      ]
     },
     "execution_count": 145,
     "metadata": {},
     "output_type": "execute_result"
    }
   ],
   "source": [
    "model_par.fit(X,y,epochs=200,verbose=0)"
   ]
  },
  {
   "cell_type": "code",
   "execution_count": 149,
   "id": "3a3299de-c373-4e42-af92-4674905c0bce",
   "metadata": {},
   "outputs": [
    {
     "data": {
      "text/plain": [
       "array([[101.11251, 106.86598, 206.97404]], dtype=float32)"
      ]
     },
     "execution_count": 149,
     "metadata": {},
     "output_type": "execute_result"
    }
   ],
   "source": [
    "x_in_par=np.array([[70,75,145],[80,85,165],[90,95,185]])\n",
    "x_in_par=x_in_par.reshape((1,3,3))\n",
    "yhat=model_par.predict(x_in_par,verbose=0)\n",
    "yhat"
   ]
  },
  {
   "cell_type": "code",
   "execution_count": null,
   "id": "9a6cad87-2652-4c3d-a662-043aa3175433",
   "metadata": {},
   "outputs": [],
   "source": [
    "model_par_gru = Sequential([\n",
    "            GRU(units=100,return_sequences=True,input_shape=(3,3)),\n",
    "            LSTM(units=100,activation='relu'),\n",
    "            Dense(3)\n",
    "])\n",
    "model_par_gru.compile(optimizer='adam',loss='mse')\n"
   ]
  },
  {
   "cell_type": "code",
   "execution_count": 152,
   "id": "12ed03ed-638f-4bbc-9bdd-cd99767fba25",
   "metadata": {},
   "outputs": [
    {
     "data": {
      "text/plain": [
       "<keras.src.callbacks.history.History at 0x226c0973950>"
      ]
     },
     "execution_count": 152,
     "metadata": {},
     "output_type": "execute_result"
    }
   ],
   "source": [
    "model_par_gru.fit(X,y,epochs=200,verbose=0)"
   ]
  },
  {
   "cell_type": "code",
   "execution_count": 153,
   "id": "b20302c0-c170-4c50-a5bd-4de600656423",
   "metadata": {},
   "outputs": [
    {
     "name": "stdout",
     "output_type": "stream",
     "text": [
      "WARNING:tensorflow:5 out of the last 8 calls to <function TensorFlowTrainer.make_predict_function.<locals>.one_step_on_data_distributed at 0x00000226CC2DEDE0> triggered tf.function retracing. Tracing is expensive and the excessive number of tracings could be due to (1) creating @tf.function repeatedly in a loop, (2) passing tensors with different shapes, (3) passing Python objects instead of tensors. For (1), please define your @tf.function outside of the loop. For (2), @tf.function has reduce_retracing=True option that can avoid unnecessary retracing. For (3), please refer to https://www.tensorflow.org/guide/function#controlling_retracing and https://www.tensorflow.org/api_docs/python/tf/function for  more details.\n"
     ]
    },
    {
     "data": {
      "text/plain": [
       "array([[ 96.47791, 101.30016, 197.08879]], dtype=float32)"
      ]
     },
     "execution_count": 153,
     "metadata": {},
     "output_type": "execute_result"
    }
   ],
   "source": [
    "x_in_gru=np.array([[70,75,145],[80,85,165],[90,95,185]])\n",
    "x_in_gru=x_in_gru.reshape((1,3,3))\n",
    "yhat_g=model_par_gru.predict(x_in_gru,verbose=0)\n",
    "yhat_g"
   ]
  },
  {
   "attachments": {
    "1cee56c5-0373-4814-8d94-f3fde1682e44.png": {
     "image/png": "[encoded data removed]"
    }
   },
   "cell_type": "markdown",
   "id": "a316debb-3625-41ad-8968-c7f7e3f09e23",
   "metadata": {},
   "source": [
    "#### Conclusion::\n",
    "\n",
    "Did u really understand how to use RNNs-LSTM,GRU?\n",
    "![image.png](attachment:1cee56c5-0373-4814-8d94-f3fde1682e44.png)\n",
    "\n"
   ]
  },
  {
   "cell_type": "code",
   "execution_count": null,
   "id": "d078fa2d-b0fb-4ff8-9c51-21c447928e06",
   "metadata": {},
   "outputs": [],
   "source": []
  }
 ],
 "metadata": {
  "kernelspec": {
   "display_name": "Python 3 (ipykernel)",
   "language": "python",
   "name": "python3"
  },
  "language_info": {
   "codemirror_mode": {
    "name": "ipython",
    "version": 3
   },
   "file_extension": ".py",
   "mimetype": "text/x-python",
   "name": "python",
   "nbconvert_exporter": "python",
   "pygments_lexer": "ipython3",
   "version": "3.11.5"
  }
 },
 "nbformat": 4,
 "nbformat_minor": 5
}
