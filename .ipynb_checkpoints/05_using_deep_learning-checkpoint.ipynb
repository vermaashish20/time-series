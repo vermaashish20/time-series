{
 "cells": [
  {
   "cell_type": "code",
   "execution_count": 42,
   "id": "5fecafed-4069-426a-bb4b-49b21fa62ee8",
   "metadata": {
    "editable": true,
    "slideshow": {
     "slide_type": ""
    },
    "tags": []
   },
   "outputs": [],
   "source": [
    "import numpy as np\n",
    "import tensorflow as tf\n",
    "from tensorflow.keras.models import Sequential\n",
    "from tensorflow.keras.layers import Dense,Conv1D,Flatten,MaxPooling1D"
   ]
  },
  {
   "cell_type": "code",
   "execution_count": 2,
   "id": "0e0fb60d-4dbf-495a-8eb5-bd14236157dc",
   "metadata": {},
   "outputs": [],
   "source": [
    "data = [1,2,3,4,5,6,7,8,9,10]  \n",
    "\n",
    "for i in range(11):\n",
    "    for j in range(4):\n",
    "        np.array"
   ]
  },
  {
   "cell_type": "code",
   "execution_count": 3,
   "id": "aba21cae-5afd-4a71-9aff-f56b2039c464",
   "metadata": {},
   "outputs": [],
   "source": [
    "series = tf.data.Dataset.from_tensor_slices(data)"
   ]
  },
  {
   "cell_type": "code",
   "execution_count": 4,
   "id": "76323755-e93b-4bee-bd79-5d05baf13039",
   "metadata": {},
   "outputs": [
    {
     "data": {
      "text/plain": [
       "tensorflow.python.data.ops.from_tensor_slices_op._TensorSliceDataset"
      ]
     },
     "execution_count": 4,
     "metadata": {},
     "output_type": "execute_result"
    }
   ],
   "source": [
    "type(series)"
   ]
  },
  {
   "cell_type": "code",
   "execution_count": 5,
   "id": "8f05702f-f7d9-44a5-9f23-7ed5645e18e1",
   "metadata": {},
   "outputs": [
    {
     "name": "stdout",
     "output_type": "stream",
     "text": [
      "tf.Tensor(1, shape=(), dtype=int32)\n",
      "tf.Tensor(2, shape=(), dtype=int32)\n",
      "tf.Tensor(3, shape=(), dtype=int32)\n",
      "tf.Tensor(4, shape=(), dtype=int32)\n",
      "1\n",
      "2\n",
      "3\n",
      "4\n",
      "5\n",
      "6\n",
      "7\n",
      "8\n",
      "9\n",
      "10\n"
     ]
    }
   ],
   "source": [
    "for i in series.take(4):\n",
    "    print(i)\n",
    "\n",
    "for i in series.take(-1).as_numpy_iterator():\n",
    "    print(i)"
   ]
  },
  {
   "cell_type": "code",
   "execution_count": 6,
   "id": "8183ae7d-e8bd-476a-af17-63eae6bbe63a",
   "metadata": {},
   "outputs": [],
   "source": [
    "win = series.window(size = 3,shift=1)"
   ]
  },
  {
   "cell_type": "code",
   "execution_count": 7,
   "id": "1a584f23-250d-4a36-ba6e-401c0f541835",
   "metadata": {},
   "outputs": [
    {
     "name": "stdout",
     "output_type": "stream",
     "text": [
      "<_VariantDataset element_spec=TensorSpec(shape=(), dtype=tf.int32, name=None)>\n",
      "<_VariantDataset element_spec=TensorSpec(shape=(), dtype=tf.int32, name=None)>\n",
      "<_VariantDataset element_spec=TensorSpec(shape=(), dtype=tf.int32, name=None)>\n",
      "<_VariantDataset element_spec=TensorSpec(shape=(), dtype=tf.int32, name=None)>\n",
      "<_VariantDataset element_spec=TensorSpec(shape=(), dtype=tf.int32, name=None)>\n",
      "<_VariantDataset element_spec=TensorSpec(shape=(), dtype=tf.int32, name=None)>\n",
      "<_VariantDataset element_spec=TensorSpec(shape=(), dtype=tf.int32, name=None)>\n",
      "<_VariantDataset element_spec=TensorSpec(shape=(), dtype=tf.int32, name=None)>\n",
      "<_VariantDataset element_spec=TensorSpec(shape=(), dtype=tf.int32, name=None)>\n",
      "<_VariantDataset element_spec=TensorSpec(shape=(), dtype=tf.int32, name=None)>\n"
     ]
    }
   ],
   "source": [
    "for j in win.take(-1):\n",
    "    print(j)"
   ]
  },
  {
   "cell_type": "code",
   "execution_count": null,
   "id": "52f7b29a-6b7c-43f7-81d6-82b6b360c41a",
   "metadata": {},
   "outputs": [],
   "source": []
  },
  {
   "cell_type": "code",
   "execution_count": 9,
   "id": "a2b92f2a-7fde-40c3-bd8a-d6fe715c3652",
   "metadata": {},
   "outputs": [],
   "source": [
    "# for i in win.flat_map(lambda x: x.batch(3,drop_remainder=True)).as_numpy_iterator():\n",
    "#     print(i)\n",
    "flatten = win.flat_map(lambda x: x.batch(3,drop_remainder=True))"
   ]
  },
  {
   "cell_type": "code",
   "execution_count": 10,
   "id": "4cb42a37-d11f-47e1-881f-ee3eaa505980",
   "metadata": {},
   "outputs": [],
   "source": [
    "def dense_1_label(batch):\n",
    "    return batch[:-1],batch[-1:]\n",
    "labeled = flatten.map(lambda batch:(batch[:-1],batch[-1:])) # ( bracket defines scope of lambda function)"
   ]
  },
  {
   "cell_type": "code",
   "execution_count": 11,
   "id": "55cdcad5-a546-420d-b0ae-dc2c077f0128",
   "metadata": {},
   "outputs": [
    {
     "name": "stdout",
     "output_type": "stream",
     "text": [
      "[1 2]  =>  [3]\n",
      "[2 3]  =>  [4]\n",
      "[3 4]  =>  [5]\n",
      "[4 5]  =>  [6]\n",
      "[5 6]  =>  [7]\n",
      "[6 7]  =>  [8]\n",
      "[7 8]  =>  [9]\n",
      "[8 9]  =>  [10]\n"
     ]
    }
   ],
   "source": [
    "for features,label in labeled.take(-1):\n",
    "     print(features.numpy(), \" => \", label.numpy())"
   ]
  },
  {
   "cell_type": "markdown",
   "id": "00d4812c-97c8-4dd7-820b-0b99827e0095",
   "metadata": {},
   "source": [
    "**Multiperceptron for time-series**\n",
    "\n",
    "Problems can be of these types:\n",
    "\n",
    "**One-step forecast**\n",
    "- Univariate time-series -> one-step-forecast\n",
    "- Multivariate time-series -> one-step-forecast\n",
    "\n",
    "**Multi-step forecast**\n",
    "\n",
    "- Univariate time-series -> multi-step-forecast\n",
    "- Multivariate time-series -> multi-step-forecast"
   ]
  },
  {
   "cell_type": "markdown",
   "id": "bbe31b7b-b155-4cda-8909-2a3a98b61b6e",
   "metadata": {},
   "source": [
    "#### univariate -> one-step-ahead forecast\n"
   ]
  },
  {
   "cell_type": "code",
   "execution_count": 2,
   "id": "e1ac6934-f345-4a6a-b241-6cf492432e14",
   "metadata": {},
   "outputs": [],
   "source": [
    "def split_sequences_univariate(sequence, n_steps):\n",
    "    X = list()\n",
    "    y = list()\n",
    "    for i in range(len(sequence)):\n",
    "        end_idx = n_steps + i\n",
    "        if end_idx > len(sequence)-1:\n",
    "            break\n",
    "        seq_x = sequence[i:end_idx]\n",
    "        seq_y = sequence[end_idx]\n",
    "        X.append(seq_x)\n",
    "        y.append(seq_y)\n",
    "    # print(y)\n",
    "    return np.array(X),np.array(y)\n",
    "        "
   ]
  },
  {
   "cell_type": "code",
   "execution_count": 79,
   "id": "d6b1ff87-aa3f-41d7-b6e0-d4451913d1e6",
   "metadata": {},
   "outputs": [
    {
     "data": {
      "text/plain": [
       "(array([[10, 20, 30],\n",
       "        [20, 30, 40],\n",
       "        [30, 40, 50],\n",
       "        [40, 50, 60],\n",
       "        [50, 60, 70],\n",
       "        [60, 70, 80]]),\n",
       " array([40, 50, 60, 70, 80, 90]))"
      ]
     },
     "execution_count": 79,
     "metadata": {},
     "output_type": "execute_result"
    }
   ],
   "source": [
    "raw_data = [10,20,30,40,50,60,70,80,90]\n",
    "n_steps = 3\n",
    "X , y = split_sequences_univariate(raw_data,n_steps)\n",
    "X , y"
   ]
  },
  {
   "cell_type": "code",
   "execution_count": 14,
   "id": "d40ca5af-53f6-4ea3-ba6f-e0427b0d099a",
   "metadata": {},
   "outputs": [],
   "source": []
  },
  {
   "cell_type": "code",
   "execution_count": 15,
   "id": "013b36f3-04c3-4391-a07a-92321e1c7f4b",
   "metadata": {},
   "outputs": [
    {
     "name": "stderr",
     "output_type": "stream",
     "text": [
      "D:\\ML\\Tools\\Lib\\site-packages\\keras\\src\\layers\\core\\dense.py:87: UserWarning: Do not pass an `input_shape`/`input_dim` argument to a layer. When using Sequential models, prefer using an `Input(shape)` object as the first layer in the model instead.\n",
      "  super().__init__(activity_regularizer=activity_regularizer, **kwargs)\n"
     ]
    },
    {
     "data": {
      "text/plain": [
       "<keras.src.callbacks.history.History at 0x1eeda91ae10>"
      ]
     },
     "execution_count": 15,
     "metadata": {},
     "output_type": "execute_result"
    }
   ],
   "source": [
    "model = Sequential(\n",
    "         [\n",
    "             Dense(100,activation='relu',input_dim = n_steps),\n",
    "             Dense(1)\n",
    "         ]\n",
    ")\n",
    "model.compile(optimizer = 'adam', loss='mse')\n",
    "model.fit(X,y,epochs=1000,verbose=0)\n"
   ]
  },
  {
   "cell_type": "code",
   "execution_count": 17,
   "id": "ad22013f-6f9b-4147-8a86-880802311c2e",
   "metadata": {},
   "outputs": [],
   "source": [
    "x_in= np.array([70,80,90])\n",
    "x_in = x_in.reshape(1,n_steps)"
   ]
  },
  {
   "cell_type": "code",
   "execution_count": 96,
   "id": "8f3f07e7-1b50-425f-b08d-d42914823d60",
   "metadata": {},
   "outputs": [
    {
     "ename": "NameError",
     "evalue": "name 'x_in' is not defined",
     "output_type": "error",
     "traceback": [
      "\u001b[1;31m---------------------------------------------------------------------------\u001b[0m",
      "\u001b[1;31mNameError\u001b[0m                                 Traceback (most recent call last)",
      "Cell \u001b[1;32mIn[96], line 1\u001b[0m\n\u001b[1;32m----> 1\u001b[0m yhat \u001b[38;5;241m=\u001b[39m model\u001b[38;5;241m.\u001b[39mpredict(x_in,verbose\u001b[38;5;241m=\u001b[39m\u001b[38;5;241m0\u001b[39m)\n\u001b[0;32m      2\u001b[0m np\u001b[38;5;241m.\u001b[39mfloor(yhat)\n",
      "\u001b[1;31mNameError\u001b[0m: name 'x_in' is not defined"
     ]
    }
   ],
   "source": [
    "yhat = model.predict(x_in,verbose=0)\n",
    "np.floor(yhat)"
   ]
  },
  {
   "cell_type": "markdown",
   "id": "eef07c99-3470-4a21-b291-0fb31d6bedfa",
   "metadata": {},
   "source": [
    "#### using tf.data api for creating `sliding window` "
   ]
  },
  {
   "cell_type": "code",
   "execution_count": 19,
   "id": "1166457d-c841-46c9-954c-d01a61604157",
   "metadata": {},
   "outputs": [
    {
     "name": "stdout",
     "output_type": "stream",
     "text": [
      "<_VariantDataset element_spec=TensorSpec(shape=(), dtype=tf.int32, name=None)>\n",
      "<_VariantDataset element_spec=TensorSpec(shape=(), dtype=tf.int32, name=None)>\n",
      "<_VariantDataset element_spec=TensorSpec(shape=(), dtype=tf.int32, name=None)>\n",
      "<_VariantDataset element_spec=TensorSpec(shape=(), dtype=tf.int32, name=None)>\n"
     ]
    }
   ],
   "source": [
    "rawDS = tf.data.Dataset.from_tensor_slices(raw_data).window(size=4,shift=1,drop_remainder=True)\n",
    "for i in rawDS.take(4):\n",
    "    print(i)"
   ]
  },
  {
   "cell_type": "code",
   "execution_count": 20,
   "id": "e93730ea-8914-4dcb-9d4c-52c3936bc8da",
   "metadata": {},
   "outputs": [
    {
     "name": "stdout",
     "output_type": "stream",
     "text": [
      "tf.Tensor([10 20 30 40], shape=(4,), dtype=int32)\n",
      "tf.Tensor([20 30 40 50], shape=(4,), dtype=int32)\n",
      "tf.Tensor([30 40 50 60], shape=(4,), dtype=int32)\n",
      "tf.Tensor([40 50 60 70], shape=(4,), dtype=int32)\n",
      "tf.Tensor([50 60 70 80], shape=(4,), dtype=int32)\n",
      "tf.Tensor([60 70 80 90], shape=(4,), dtype=int32)\n"
     ]
    }
   ],
   "source": [
    "data_batched = rawDS.flat_map(lambda x : x.batch(4))\n",
    "for i in data_batched.take(-1):\n",
    "    print(i)"
   ]
  },
  {
   "cell_type": "code",
   "execution_count": 21,
   "id": "73429b5a-09ec-4933-8ff3-2b2513805181",
   "metadata": {},
   "outputs": [
    {
     "name": "stdout",
     "output_type": "stream",
     "text": [
      "[10 20 30] => 40\n",
      "[20 30 40] => 50\n",
      "[30 40 50] => 60\n",
      "[40 50 60] => 70\n",
      "[50 60 70] => 80\n",
      "[60 70 80] => 90\n"
     ]
    }
   ],
   "source": [
    "data_labeled = data_batched.map(lambda x : (x[:-1], x[-1]))\n",
    "for feat,label in data_labeled.take(-1):\n",
    "    print(feat.numpy(),\"=>\",label.numpy())"
   ]
  },
  {
   "cell_type": "code",
   "execution_count": null,
   "id": "40308f86-7d5e-4495-8454-575f8ec36b1d",
   "metadata": {},
   "outputs": [],
   "source": []
  },
  {
   "cell_type": "code",
   "execution_count": 22,
   "id": "dede34a7-620b-48d1-aaf1-e81ccdda9175",
   "metadata": {},
   "outputs": [],
   "source": [
    "data_labeled = data_labeled.prefetch(1)"
   ]
  },
  {
   "cell_type": "code",
   "execution_count": null,
   "id": "6a23ac5e-e19c-4d90-9411-4f2af06f3ba4",
   "metadata": {},
   "outputs": [],
   "source": []
  },
  {
   "cell_type": "code",
   "execution_count": 23,
   "id": "f372afd9-c013-4896-be32-cdf588f74c65",
   "metadata": {},
   "outputs": [
    {
     "ename": "ValueError",
     "evalue": "Exception encountered when calling Sequential.call().\n\n\u001b[1mCannot take the length of shape with unknown rank.\u001b[0m\n\nArguments received by Sequential.call():\n  • inputs=tf.Tensor(shape=<unknown>, dtype=int32)\n  • training=True\n  • mask=None",
     "output_type": "error",
     "traceback": [
      "\u001b[1;31m---------------------------------------------------------------------------\u001b[0m",
      "\u001b[1;31mValueError\u001b[0m                                Traceback (most recent call last)",
      "Cell \u001b[1;32mIn[23], line 1\u001b[0m\n\u001b[1;32m----> 1\u001b[0m model\u001b[38;5;241m.\u001b[39mfit(data_labeled,epochs\u001b[38;5;241m=\u001b[39m\u001b[38;5;241m800\u001b[39m,verbose\u001b[38;5;241m=\u001b[39m\u001b[38;5;241m0\u001b[39m)\n",
      "File \u001b[1;32mD:\\ML\\Tools\\Lib\\site-packages\\keras\\src\\utils\\traceback_utils.py:122\u001b[0m, in \u001b[0;36mfilter_traceback.<locals>.error_handler\u001b[1;34m(*args, **kwargs)\u001b[0m\n\u001b[0;32m    119\u001b[0m     filtered_tb \u001b[38;5;241m=\u001b[39m _process_traceback_frames(e\u001b[38;5;241m.\u001b[39m__traceback__)\n\u001b[0;32m    120\u001b[0m     \u001b[38;5;66;03m# To get the full stack trace, call:\u001b[39;00m\n\u001b[0;32m    121\u001b[0m     \u001b[38;5;66;03m# `keras.config.disable_traceback_filtering()`\u001b[39;00m\n\u001b[1;32m--> 122\u001b[0m     \u001b[38;5;28;01mraise\u001b[39;00m e\u001b[38;5;241m.\u001b[39mwith_traceback(filtered_tb) \u001b[38;5;28;01mfrom\u001b[39;00m \u001b[38;5;28;01mNone\u001b[39;00m\n\u001b[0;32m    123\u001b[0m \u001b[38;5;28;01mfinally\u001b[39;00m:\n\u001b[0;32m    124\u001b[0m     \u001b[38;5;28;01mdel\u001b[39;00m filtered_tb\n",
      "File \u001b[1;32mD:\\ML\\Tools\\Lib\\site-packages\\keras\\src\\utils\\traceback_utils.py:122\u001b[0m, in \u001b[0;36mfilter_traceback.<locals>.error_handler\u001b[1;34m(*args, **kwargs)\u001b[0m\n\u001b[0;32m    119\u001b[0m     filtered_tb \u001b[38;5;241m=\u001b[39m _process_traceback_frames(e\u001b[38;5;241m.\u001b[39m__traceback__)\n\u001b[0;32m    120\u001b[0m     \u001b[38;5;66;03m# To get the full stack trace, call:\u001b[39;00m\n\u001b[0;32m    121\u001b[0m     \u001b[38;5;66;03m# `keras.config.disable_traceback_filtering()`\u001b[39;00m\n\u001b[1;32m--> 122\u001b[0m     \u001b[38;5;28;01mraise\u001b[39;00m e\u001b[38;5;241m.\u001b[39mwith_traceback(filtered_tb) \u001b[38;5;28;01mfrom\u001b[39;00m \u001b[38;5;28;01mNone\u001b[39;00m\n\u001b[0;32m    123\u001b[0m \u001b[38;5;28;01mfinally\u001b[39;00m:\n\u001b[0;32m    124\u001b[0m     \u001b[38;5;28;01mdel\u001b[39;00m filtered_tb\n",
      "\u001b[1;31mValueError\u001b[0m: Exception encountered when calling Sequential.call().\n\n\u001b[1mCannot take the length of shape with unknown rank.\u001b[0m\n\nArguments received by Sequential.call():\n  • inputs=tf.Tensor(shape=<unknown>, dtype=int32)\n  • training=True\n  • mask=None"
     ]
    }
   ],
   "source": [
    "model.fit(data_labeled,epochs=800,verbose=0)"
   ]
  },
  {
   "cell_type": "markdown",
   "id": "aa99bcfe-d9a2-471d-b320-602903a38bc1",
   "metadata": {},
   "source": [
    "#### Mulitivariate -> one-time-step\n",
    "\n",
    "we are using two variable at same-time-step to predict the 2nd variable one-time ahead. Using lag of 3 previous data(i.e., using window size of 3,using 3 previous time-step data and current x1 data to predict the next)"
   ]
  },
  {
   "cell_type": "code",
   "execution_count": 5,
   "id": "ac9b7eed-3085-41e0-b3c4-17e6759d8faa",
   "metadata": {},
   "outputs": [],
   "source": [
    "in_seq1 = np.arange(10,100,10)\n",
    "in_seq2 = np.arange(15,100,10)\n",
    "out_seq = np.array([in_seq1[i]+in_seq2[i] for i in range(len(in_seq1))])"
   ]
  },
  {
   "cell_type": "code",
   "execution_count": 6,
   "id": "820739d7-73d3-4e9d-83d3-a71009498b7b",
   "metadata": {},
   "outputs": [
    {
     "data": {
      "text/plain": [
       "array([[ 10,  15,  25],\n",
       "       [ 20,  25,  45],\n",
       "       [ 30,  35,  65],\n",
       "       [ 40,  45,  85],\n",
       "       [ 50,  55, 105],\n",
       "       [ 60,  65, 125],\n",
       "       [ 70,  75, 145],\n",
       "       [ 80,  85, 165],\n",
       "       [ 90,  95, 185]])"
      ]
     },
     "execution_count": 6,
     "metadata": {},
     "output_type": "execute_result"
    }
   ],
   "source": [
    "#reshape to add both in row-col \n",
    "in_seq1 = in_seq1.reshape(len(in_seq1),1)\n",
    "in_seq2 = in_seq2.reshape(len(in_seq2),1)\n",
    "out_seq = out_seq.reshape(len(out_seq),1)\n",
    "dataset = np.hstack((in_seq1,in_seq2,out_seq))\n",
    "dataset"
   ]
  },
  {
   "cell_type": "code",
   "execution_count": 7,
   "id": "6bb28137-0d33-48d0-bc0d-d3dcfa8ea6e3",
   "metadata": {},
   "outputs": [
    {
     "data": {
      "text/plain": [
       "(array([[[10, 15],\n",
       "         [20, 25],\n",
       "         [30, 35]],\n",
       " \n",
       "        [[20, 25],\n",
       "         [30, 35],\n",
       "         [40, 45]],\n",
       " \n",
       "        [[30, 35],\n",
       "         [40, 45],\n",
       "         [50, 55]],\n",
       " \n",
       "        [[40, 45],\n",
       "         [50, 55],\n",
       "         [60, 65]],\n",
       " \n",
       "        [[50, 55],\n",
       "         [60, 65],\n",
       "         [70, 75]],\n",
       " \n",
       "        [[60, 65],\n",
       "         [70, 75],\n",
       "         [80, 85]],\n",
       " \n",
       "        [[70, 75],\n",
       "         [80, 85],\n",
       "         [90, 95]]]),\n",
       " array([ 65,  85, 105, 125, 145, 165, 185]))"
      ]
     },
     "execution_count": 7,
     "metadata": {},
     "output_type": "execute_result"
    }
   ],
   "source": [
    "def split_sequence_multi(sequences, n_steps):\n",
    "    X, Y = list(), list()\n",
    "    for i in range(len(sequences)):\n",
    "        end_ix = i +n_steps\n",
    "        if end_ix > len(sequences):\n",
    "            break\n",
    "        x , y = sequences[i:end_ix,:-1],sequences[end_ix-1,-1]\n",
    "        X.append(x)\n",
    "        Y.append(y)\n",
    "    return np.array(X),np.array(Y)\n",
    "\n",
    "X_multi3,y_multi3=split_sequence_multi(dataset,3)\n",
    "X_multi3,y_multi3"
   ]
  },
  {
   "cell_type": "code",
   "execution_count": 121,
   "id": "50739d5b-bd61-4462-8d89-a9dbea1a6889",
   "metadata": {},
   "outputs": [],
   "source": [
    "from tensorflow.keras.layers import Input\n",
    "model_multi3 = Sequential(\n",
    "         [\n",
    "             # Input((None,6)),\n",
    "             Dense(100,activation='relu',input_dim=6),\n",
    "             Dense(1)\n",
    "            \n",
    "         ]\n",
    ")\n",
    "\n",
    "model_multi3.compile(optimizer='adam',loss='mse')\n"
   ]
  },
  {
   "cell_type": "code",
   "execution_count": 122,
   "id": "9fc7dfa3-91c9-41ec-a6b8-4b8d3e91d080",
   "metadata": {},
   "outputs": [],
   "source": [
    "X_multi3 = X_multi3.reshape((X_multi3.shape[0],6))"
   ]
  },
  {
   "cell_type": "code",
   "execution_count": 127,
   "id": "58124a80-707f-40f8-a6ed-781fb708eb46",
   "metadata": {},
   "outputs": [
    {
     "data": {
      "text/plain": [
       "<keras.src.callbacks.history.History at 0x1eee5453050>"
      ]
     },
     "execution_count": 127,
     "metadata": {},
     "output_type": "execute_result"
    }
   ],
   "source": [
    "model_multi3.fit(X_multi3,y_multi3,epochs=300,verbose=0)"
   ]
  },
  {
   "cell_type": "code",
   "execution_count": 128,
   "id": "a9ae3d7f-b9ef-4787-bdc2-0f4d83e155ef",
   "metadata": {},
   "outputs": [
    {
     "data": {
      "text/html": [
       "<pre style=\"white-space:pre;overflow-x:auto;line-height:normal;font-family:Menlo,'DejaVu Sans Mono',consolas,'Courier New',monospace\"><span style=\"font-weight: bold\">Model: \"sequential\"</span>\n",
       "</pre>\n"
      ],
      "text/plain": [
       "\u001b[1mModel: \"sequential\"\u001b[0m\n"
      ]
     },
     "metadata": {},
     "output_type": "display_data"
    },
    {
     "data": {
      "text/html": [
       "<pre style=\"white-space:pre;overflow-x:auto;line-height:normal;font-family:Menlo,'DejaVu Sans Mono',consolas,'Courier New',monospace\">┏━━━━━━━━━━━━━━━━━━━━━━━━━━━━━━━━━━━━━━┳━━━━━━━━━━━━━━━━━━━━━━━━━━━━━┳━━━━━━━━━━━━━━━━━┓\n",
       "┃<span style=\"font-weight: bold\"> Layer (type)                         </span>┃<span style=\"font-weight: bold\"> Output Shape                </span>┃<span style=\"font-weight: bold\">         Param # </span>┃\n",
       "┡━━━━━━━━━━━━━━━━━━━━━━━━━━━━━━━━━━━━━━╇━━━━━━━━━━━━━━━━━━━━━━━━━━━━━╇━━━━━━━━━━━━━━━━━┩\n",
       "│ dense (<span style=\"color: #0087ff; text-decoration-color: #0087ff\">Dense</span>)                        │ (<span style=\"color: #00d7ff; text-decoration-color: #00d7ff\">None</span>, <span style=\"color: #00af00; text-decoration-color: #00af00\">100</span>)                 │             <span style=\"color: #00af00; text-decoration-color: #00af00\">400</span> │\n",
       "├──────────────────────────────────────┼─────────────────────────────┼─────────────────┤\n",
       "│ dense_1 (<span style=\"color: #0087ff; text-decoration-color: #0087ff\">Dense</span>)                      │ (<span style=\"color: #00d7ff; text-decoration-color: #00d7ff\">None</span>, <span style=\"color: #00af00; text-decoration-color: #00af00\">1</span>)                   │             <span style=\"color: #00af00; text-decoration-color: #00af00\">101</span> │\n",
       "└──────────────────────────────────────┴─────────────────────────────┴─────────────────┘\n",
       "</pre>\n"
      ],
      "text/plain": [
       "┏━━━━━━━━━━━━━━━━━━━━━━━━━━━━━━━━━━━━━━┳━━━━━━━━━━━━━━━━━━━━━━━━━━━━━┳━━━━━━━━━━━━━━━━━┓\n",
       "┃\u001b[1m \u001b[0m\u001b[1mLayer (type)                        \u001b[0m\u001b[1m \u001b[0m┃\u001b[1m \u001b[0m\u001b[1mOutput Shape               \u001b[0m\u001b[1m \u001b[0m┃\u001b[1m \u001b[0m\u001b[1m        Param #\u001b[0m\u001b[1m \u001b[0m┃\n",
       "┡━━━━━━━━━━━━━━━━━━━━━━━━━━━━━━━━━━━━━━╇━━━━━━━━━━━━━━━━━━━━━━━━━━━━━╇━━━━━━━━━━━━━━━━━┩\n",
       "│ dense (\u001b[38;5;33mDense\u001b[0m)                        │ (\u001b[38;5;45mNone\u001b[0m, \u001b[38;5;34m100\u001b[0m)                 │             \u001b[38;5;34m400\u001b[0m │\n",
       "├──────────────────────────────────────┼─────────────────────────────┼─────────────────┤\n",
       "│ dense_1 (\u001b[38;5;33mDense\u001b[0m)                      │ (\u001b[38;5;45mNone\u001b[0m, \u001b[38;5;34m1\u001b[0m)                   │             \u001b[38;5;34m101\u001b[0m │\n",
       "└──────────────────────────────────────┴─────────────────────────────┴─────────────────┘\n"
      ]
     },
     "metadata": {},
     "output_type": "display_data"
    },
    {
     "data": {
      "text/html": [
       "<pre style=\"white-space:pre;overflow-x:auto;line-height:normal;font-family:Menlo,'DejaVu Sans Mono',consolas,'Courier New',monospace\"><span style=\"font-weight: bold\"> Total params: </span><span style=\"color: #00af00; text-decoration-color: #00af00\">1,505</span> (5.88 KB)\n",
       "</pre>\n"
      ],
      "text/plain": [
       "\u001b[1m Total params: \u001b[0m\u001b[38;5;34m1,505\u001b[0m (5.88 KB)\n"
      ]
     },
     "metadata": {},
     "output_type": "display_data"
    },
    {
     "data": {
      "text/html": [
       "<pre style=\"white-space:pre;overflow-x:auto;line-height:normal;font-family:Menlo,'DejaVu Sans Mono',consolas,'Courier New',monospace\"><span style=\"font-weight: bold\"> Trainable params: </span><span style=\"color: #00af00; text-decoration-color: #00af00\">501</span> (1.96 KB)\n",
       "</pre>\n"
      ],
      "text/plain": [
       "\u001b[1m Trainable params: \u001b[0m\u001b[38;5;34m501\u001b[0m (1.96 KB)\n"
      ]
     },
     "metadata": {},
     "output_type": "display_data"
    },
    {
     "data": {
      "text/html": [
       "<pre style=\"white-space:pre;overflow-x:auto;line-height:normal;font-family:Menlo,'DejaVu Sans Mono',consolas,'Courier New',monospace\"><span style=\"font-weight: bold\"> Non-trainable params: </span><span style=\"color: #00af00; text-decoration-color: #00af00\">0</span> (0.00 B)\n",
       "</pre>\n"
      ],
      "text/plain": [
       "\u001b[1m Non-trainable params: \u001b[0m\u001b[38;5;34m0\u001b[0m (0.00 B)\n"
      ]
     },
     "metadata": {},
     "output_type": "display_data"
    },
    {
     "data": {
      "text/html": [
       "<pre style=\"white-space:pre;overflow-x:auto;line-height:normal;font-family:Menlo,'DejaVu Sans Mono',consolas,'Courier New',monospace\"><span style=\"font-weight: bold\"> Optimizer params: </span><span style=\"color: #00af00; text-decoration-color: #00af00\">1,004</span> (3.93 KB)\n",
       "</pre>\n"
      ],
      "text/plain": [
       "\u001b[1m Optimizer params: \u001b[0m\u001b[38;5;34m1,004\u001b[0m (3.93 KB)\n"
      ]
     },
     "metadata": {},
     "output_type": "display_data"
    }
   ],
   "source": [
    "model.summary()"
   ]
  },
  {
   "cell_type": "code",
   "execution_count": 129,
   "id": "54a21f0d-e45b-41b8-8766-33d544dcdc0b",
   "metadata": {},
   "outputs": [
    {
     "name": "stdout",
     "output_type": "stream",
     "text": [
      "[[ 80  85  90  95 100 105]]\n",
      "\u001b[1m1/1\u001b[0m \u001b[32m━━━━━━━━━━━━━━━━━━━━\u001b[0m\u001b[37m\u001b[0m \u001b[1m0s\u001b[0m 16ms/step\n"
     ]
    }
   ],
   "source": [
    "x_input = np.array([[80, 85], [90, 95], [100, 105]])\n",
    "x_input = x_input.reshape((1, 6))\n",
    "print(x_input)\n",
    "yhat_multi = model_multi3.predict(x_input)"
   ]
  },
  {
   "cell_type": "code",
   "execution_count": 130,
   "id": "a8c26687-ffed-4b02-a85a-2f31bbc5eb4e",
   "metadata": {},
   "outputs": [
    {
     "data": {
      "text/plain": [
       "array([[215.35583]], dtype=float32)"
      ]
     },
     "execution_count": 130,
     "metadata": {},
     "output_type": "execute_result"
    }
   ],
   "source": [
    "yhat_multi"
   ]
  },
  {
   "cell_type": "markdown",
   "id": "3f5488d4-290f-4ad4-be9f-61b234c88831",
   "metadata": {},
   "source": [
    "conclusion: the Dense layer accepts the size/shape of one observation/row.\n",
    "\n",
    "for 1-d observation(features in columsn)-> Dense accepts 1-dim shape\n",
    "for 2-d observation(images) -> Dense accepts 2dim shape(27*27)\n"
   ]
  },
  {
   "cell_type": "markdown",
   "id": "0a77321b-6060-4461-bdc5-d02bb589e9ca",
   "metadata": {},
   "source": [
    "###### Multiheaded \n",
    "\n",
    "feed one-series(one variable to one model->gives output) -> combines the both model output -> give to another third model for output"
   ]
  },
  {
   "cell_type": "code",
   "execution_count": 14,
   "id": "11d8d361-21bb-4b71-b0bf-f2f3e4ab3763",
   "metadata": {},
   "outputs": [],
   "source": [
    "def split_sequences_mhead(sequences,n_steps):\n",
    "    X,y = list(), list()\n",
    "    for i in range(len(sequences)):\n",
    "        end_ix = i+n_steps\n",
    "        if end_ix > len(sequences):\n",
    "            break\n",
    "        seq_x , seq_y = sequences[i:end_ix,:-1],sequences[end_ix-1,-1]\n",
    "        X.append(seq_x)\n",
    "        y.append(seq_y)\n",
    "    return np.array(X),np.array(y)"
   ]
  },
  {
   "cell_type": "code",
   "execution_count": 39,
   "id": "c67d5bf9-6014-4685-8528-a809bb6d60af",
   "metadata": {},
   "outputs": [
    {
     "name": "stdout",
     "output_type": "stream",
     "text": [
      "Dat stacked data: [[ 10  15  25]\n",
      " [ 20  25  45]\n",
      " [ 30  35  65]\n",
      " [ 40  45  85]\n",
      " [ 50  55 105]\n",
      " [ 60  65 125]\n",
      " [ 70  75 145]\n",
      " [ 80  85 165]\n",
      " [ 90  95 185]]\n",
      "X:\n",
      " [[[10 15]\n",
      "  [20 25]\n",
      "  [30 35]]\n",
      "\n",
      " [[20 25]\n",
      "  [30 35]\n",
      "  [40 45]]\n",
      "\n",
      " [[30 35]\n",
      "  [40 45]\n",
      "  [50 55]]\n",
      "\n",
      " [[40 45]\n",
      "  [50 55]\n",
      "  [60 65]]\n",
      "\n",
      " [[50 55]\n",
      "  [60 65]\n",
      "  [70 75]]\n",
      "\n",
      " [[60 65]\n",
      "  [70 75]\n",
      "  [80 85]]\n",
      "\n",
      " [[70 75]\n",
      "  [80 85]\n",
      "  [90 95]]] \n",
      "--Y [ 65  85 105 125 145 165 185]\n",
      "X1:\n",
      " [[10 20 30]\n",
      " [20 30 40]\n",
      " [30 40 50]\n",
      " [40 50 60]\n",
      " [50 60 70]\n",
      " [60 70 80]\n",
      " [70 80 90]] \n",
      "X2\n",
      ": [[15 25 35]\n",
      " [25 35 45]\n",
      " [35 45 55]\n",
      " [45 55 65]\n",
      " [55 65 75]\n",
      " [65 75 85]\n",
      " [75 85 95]]\n",
      "x1 [[ 80  90 100]] x2 [[ 85  95 105]]\n",
      "\u001b[1m1/1\u001b[0m \u001b[32m━━━━━━━━━━━━━━━━━━━━\u001b[0m\u001b[37m\u001b[0m \u001b[1m0s\u001b[0m 57ms/step\n",
      "y_hat [[215.12367]]\n"
     ]
    }
   ],
   "source": [
    "from tensorflow.keras.layers import Input\n",
    "from tensorflow.keras.layers import concatenate\n",
    "from tensorflow.keras.models import Model\n",
    "\n",
    "in_seq1 = np.array([10, 20, 30, 40, 50, 60, 70, 80, 90])\n",
    "in_seq2 = np.array([15, 25, 35, 45, 55, 65, 75, 85, 95])\n",
    "out_seq = np.array([in_seq1[i]+in_seq2[i] for i in range(len(in_seq1))])\n",
    " # convert to [rows, columns] structure\n",
    "in_seq1 = in_seq1.reshape((len(in_seq1), 1))\n",
    "in_seq2 = in_seq2.reshape((len(in_seq2), 1))\n",
    "out_seq = out_seq.reshape((len(out_seq), 1))\n",
    "out_seq, in_seq1\n",
    "\n",
    "dat = np.hstack((in_seq1,in_seq2,out_seq))\n",
    "print(\"Dat stacked data:\",dat)\n",
    "\n",
    "n_steps = 3\n",
    "X, y = split_sequences_mhead(dat,n_steps)\n",
    "print(\"X:\\n\",X, \"\\n--Y\", y)\n",
    "\n",
    "X1 = X[:,:,0]\n",
    "X2 = X[:,:,1]\n",
    "print(\"X1:\\n\",X1,\"\\nX2\\n:\",X2)\n",
    "\n",
    "visible1 = Input(shape=(n_steps,))\n",
    "dense1 = Dense(100,activation = 'relu')(visible1)\n",
    "visible2 = Input(shape=(n_steps,))\n",
    "dense2 = Dense(100,activation='relu')(visible2)\n",
    "\n",
    "merge = concatenate([dense1,dense2])\n",
    "output = Dense(1)(merge)\n",
    "model = Model(inputs=[visible1,visible2],outputs=output)\n",
    "\n",
    "model.compile(optimizer='adam', loss='mse')\n",
    " # fit model\n",
    "model.fit([X1, X2], y, epochs=200, verbose=0)\n",
    "\n",
    "x_test = np.array([[80,85],[90,95],[100,105]])\n",
    "x1 = x_test[:,0].reshape(1,n_steps)\n",
    "x2 =x_test[:,1].reshape(1,n_steps)\n",
    "print(\"x1\",x1,\"x2\",x2)\n",
    "\n",
    "y_hat = model.predict([x1,x2])\n",
    "print(\"y_hat\",y_hat)"
   ]
  },
  {
   "cell_type": "markdown",
   "id": "e608fbb6-ff31-4538-a57c-fcf737a58825",
   "metadata": {},
   "source": [
    "#### Multi-parallel \n",
    "\n",
    "predicting all variables for next step"
   ]
  },
  {
   "cell_type": "code",
   "execution_count": 41,
   "id": "9a757b3a-d7c3-4b41-a887-5d761e83b8c9",
   "metadata": {},
   "outputs": [
    {
     "name": "stdout",
     "output_type": "stream",
     "text": [
      "dat: [[ 10  15  25]\n",
      " [ 20  25  45]\n",
      " [ 30  35  65]\n",
      " [ 40  45  85]\n",
      " [ 50  55 105]\n",
      " [ 60  65 125]\n",
      " [ 70  75 145]\n",
      " [ 80  85 165]\n",
      " [ 90  95 185]]\n"
     ]
    }
   ],
   "source": [
    "print(\"dat:\",dat)"
   ]
  },
  {
   "cell_type": "code",
   "execution_count": 76,
   "id": "fa12cdad-0e6c-4dc5-bc9a-ad6c19aa0f57",
   "metadata": {},
   "outputs": [
    {
     "name": "stdout",
     "output_type": "stream",
     "text": [
      "X_par:\n",
      " [[[ 10  15  25]\n",
      "  [ 20  25  45]\n",
      "  [ 30  35  65]]\n",
      "\n",
      " [[ 20  25  45]\n",
      "  [ 30  35  65]\n",
      "  [ 40  45  85]]\n",
      "\n",
      " [[ 30  35  65]\n",
      "  [ 40  45  85]\n",
      "  [ 50  55 105]]\n",
      "\n",
      " [[ 40  45  85]\n",
      "  [ 50  55 105]\n",
      "  [ 60  65 125]]\n",
      "\n",
      " [[ 50  55 105]\n",
      "  [ 60  65 125]\n",
      "  [ 70  75 145]]\n",
      "\n",
      " [[ 60  65 125]\n",
      "  [ 70  75 145]\n",
      "  [ 80  85 165]]]\n",
      "y_par:\n",
      " [[ 40  45  85]\n",
      " [ 50  55 105]\n",
      " [ 60  65 125]\n",
      " [ 70  75 145]\n",
      " [ 80  85 165]\n",
      " [ 90  95 185]]\n",
      "y_hat_paar: [[107.67227 114.93565 224.45381]]\n"
     ]
    }
   ],
   "source": [
    "def sequences_parallel(sequences,n_steps):\n",
    "    X,y = list(),list()\n",
    "    for i in range(len(sequences)):\n",
    "        end_ix = i + n_steps\n",
    "        if(end_ix > len(sequences)-1):\n",
    "            break\n",
    "        x,y_n = sequences[i:end_ix,:],sequences[end_ix,:]\n",
    "        X.append(x)\n",
    "        y.append(y_n)\n",
    "    return np.array(X),np.array(y)\n",
    "\n",
    "X_par,y_par = sequences_parallel(dat,3)\n",
    "print(\"X_par:\\n\",X_par)\n",
    "print(\"y_par:\\n\",y_par)\n",
    "\n",
    "n_input_par = X_par.shape[1] * X_par.shape[2]\n",
    "X_par = X_par.reshape((6,9))\n",
    "\n",
    "model_par = Sequential([\n",
    "            Dense(100,activation='relu',input_dim = 9),\n",
    "            Dense(3)\n",
    "])\n",
    "model_par.compile(optimizer='adam',loss='mse')\n",
    "model_par.fit(X_par,y_par,epochs=200,verbose=0)\n",
    "#predict\n",
    "x_par=np.array([[70,75,145],[80,85,165],[90,95,185]])\n",
    "x_par=x_par.reshape((1,n_input_par))\n",
    "yhat_par=model_par.predict(x_par,verbose=0)\n",
    "print(\"y_hat_paar:\",yhat_par)"
   ]
  },
  {
   "cell_type": "markdown",
   "id": "851c4a8d-1774-459f-8991-260eb24d16a2",
   "metadata": {},
   "source": [
    "#### Time-series with CNN"
   ]
  },
  {
   "cell_type": "code",
   "execution_count": 80,
   "id": "5858c5f8-d8b9-4578-9f2e-01643967c20b",
   "metadata": {},
   "outputs": [
    {
     "data": {
      "text/plain": [
       "(array([[10, 20, 30],\n",
       "        [20, 30, 40],\n",
       "        [30, 40, 50],\n",
       "        [40, 50, 60],\n",
       "        [50, 60, 70],\n",
       "        [60, 70, 80]]),\n",
       " array([40, 50, 60, 70, 80, 90]))"
      ]
     },
     "execution_count": 80,
     "metadata": {},
     "output_type": "execute_result"
    }
   ],
   "source": [
    "uni_cnn_data = np.arange(10,100,10)\n",
    "Xc_u,yc_u = split_sequences_univariate(uni_cnn_data,3)\n",
    "Xc_u,yc_u"
   ]
  },
  {
   "cell_type": "code",
   "execution_count": 91,
   "id": "24446432-e78b-4907-8065-6fc3d09319f9",
   "metadata": {},
   "outputs": [
    {
     "data": {
      "text/plain": [
       "array([[[10],\n",
       "        [20],\n",
       "        [30]],\n",
       "\n",
       "       [[20],\n",
       "        [30],\n",
       "        [40]],\n",
       "\n",
       "       [[30],\n",
       "        [40],\n",
       "        [50]],\n",
       "\n",
       "       [[40],\n",
       "        [50],\n",
       "        [60]],\n",
       "\n",
       "       [[50],\n",
       "        [60],\n",
       "        [70]],\n",
       "\n",
       "       [[60],\n",
       "        [70],\n",
       "        [80]]])"
      ]
     },
     "execution_count": 91,
     "metadata": {},
     "output_type": "execute_result"
    }
   ],
   "source": [
    "#reshaping for cnn, required shape:(n_samples,time-step,features)\n",
    "#for Conv2D :(height,width,color_channel) n_channel = n_features\n",
    "Xc_u = Xc_u.reshape((6,3,1))\n",
    "Xc_u"
   ]
  },
  {
   "cell_type": "code",
   "execution_count": 118,
   "id": "d54a63cd-9d72-49b4-a0cf-eb35e7bc40c1",
   "metadata": {},
   "outputs": [],
   "source": [
    "#cnn 1d model for univarite\n",
    "from tensorflow.keras.layers import Conv1D,MaxPooling1D,Flatten\n",
    "\n",
    "model_cnn_uni = Sequential([\n",
    "            Conv1D(filters=80,kernel_size=2,activation='relu',input_shape=(3,1)),\n",
    "            MaxPooling1D(pool_size=2),\n",
    "            Flatten(),\n",
    "            Dense(50,activation='relu'),\n",
    "            Dense(1)\n",
    "])\n",
    "\n",
    "model_cnn_uni.compile(optimizer='adam',loss='mse')\n"
   ]
  },
  {
   "cell_type": "code",
   "execution_count": 119,
   "id": "d83abc73-27bf-4049-9812-57cf609fbc3e",
   "metadata": {},
   "outputs": [
    {
     "data": {
      "text/plain": [
       "<keras.src.callbacks.history.History at 0x1eb05df7f50>"
      ]
     },
     "execution_count": 119,
     "metadata": {},
     "output_type": "execute_result"
    }
   ],
   "source": [
    "model_cnn_uni.fit(Xc_u,yc_u,epochs=100,verbose=0)"
   ]
  },
  {
   "cell_type": "code",
   "execution_count": 120,
   "id": "9a528b10-e282-47be-9e43-cfa9061ffae1",
   "metadata": {},
   "outputs": [
    {
     "data": {
      "text/html": [
       "<pre style=\"white-space:pre;overflow-x:auto;line-height:normal;font-family:Menlo,'DejaVu Sans Mono',consolas,'Courier New',monospace\"><span style=\"font-weight: bold\">Model: \"sequential_12\"</span>\n",
       "</pre>\n"
      ],
      "text/plain": [
       "\u001b[1mModel: \"sequential_12\"\u001b[0m\n"
      ]
     },
     "metadata": {},
     "output_type": "display_data"
    },
    {
     "data": {
      "text/html": [
       "<pre style=\"white-space:pre;overflow-x:auto;line-height:normal;font-family:Menlo,'DejaVu Sans Mono',consolas,'Courier New',monospace\">┏━━━━━━━━━━━━━━━━━━━━━━━━━━━━━━━━━━━━━━┳━━━━━━━━━━━━━━━━━━━━━━━━━━━━━┳━━━━━━━━━━━━━━━━━┓\n",
       "┃<span style=\"font-weight: bold\"> Layer (type)                         </span>┃<span style=\"font-weight: bold\"> Output Shape                </span>┃<span style=\"font-weight: bold\">         Param # </span>┃\n",
       "┡━━━━━━━━━━━━━━━━━━━━━━━━━━━━━━━━━━━━━━╇━━━━━━━━━━━━━━━━━━━━━━━━━━━━━╇━━━━━━━━━━━━━━━━━┩\n",
       "│ conv1d_7 (<span style=\"color: #0087ff; text-decoration-color: #0087ff\">Conv1D</span>)                    │ (<span style=\"color: #00d7ff; text-decoration-color: #00d7ff\">None</span>, <span style=\"color: #00af00; text-decoration-color: #00af00\">2</span>, <span style=\"color: #00af00; text-decoration-color: #00af00\">80</span>)               │             <span style=\"color: #00af00; text-decoration-color: #00af00\">240</span> │\n",
       "├──────────────────────────────────────┼─────────────────────────────┼─────────────────┤\n",
       "│ max_pooling1d_6 (<span style=\"color: #0087ff; text-decoration-color: #0087ff\">MaxPooling1D</span>)       │ (<span style=\"color: #00d7ff; text-decoration-color: #00d7ff\">None</span>, <span style=\"color: #00af00; text-decoration-color: #00af00\">1</span>, <span style=\"color: #00af00; text-decoration-color: #00af00\">80</span>)               │               <span style=\"color: #00af00; text-decoration-color: #00af00\">0</span> │\n",
       "├──────────────────────────────────────┼─────────────────────────────┼─────────────────┤\n",
       "│ flatten_6 (<span style=\"color: #0087ff; text-decoration-color: #0087ff\">Flatten</span>)                  │ (<span style=\"color: #00d7ff; text-decoration-color: #00d7ff\">None</span>, <span style=\"color: #00af00; text-decoration-color: #00af00\">80</span>)                  │               <span style=\"color: #00af00; text-decoration-color: #00af00\">0</span> │\n",
       "├──────────────────────────────────────┼─────────────────────────────┼─────────────────┤\n",
       "│ dense_42 (<span style=\"color: #0087ff; text-decoration-color: #0087ff\">Dense</span>)                     │ (<span style=\"color: #00d7ff; text-decoration-color: #00d7ff\">None</span>, <span style=\"color: #00af00; text-decoration-color: #00af00\">50</span>)                  │           <span style=\"color: #00af00; text-decoration-color: #00af00\">4,050</span> │\n",
       "├──────────────────────────────────────┼─────────────────────────────┼─────────────────┤\n",
       "│ dense_43 (<span style=\"color: #0087ff; text-decoration-color: #0087ff\">Dense</span>)                     │ (<span style=\"color: #00d7ff; text-decoration-color: #00d7ff\">None</span>, <span style=\"color: #00af00; text-decoration-color: #00af00\">1</span>)                   │              <span style=\"color: #00af00; text-decoration-color: #00af00\">51</span> │\n",
       "└──────────────────────────────────────┴─────────────────────────────┴─────────────────┘\n",
       "</pre>\n"
      ],
      "text/plain": [
       "┏━━━━━━━━━━━━━━━━━━━━━━━━━━━━━━━━━━━━━━┳━━━━━━━━━━━━━━━━━━━━━━━━━━━━━┳━━━━━━━━━━━━━━━━━┓\n",
       "┃\u001b[1m \u001b[0m\u001b[1mLayer (type)                        \u001b[0m\u001b[1m \u001b[0m┃\u001b[1m \u001b[0m\u001b[1mOutput Shape               \u001b[0m\u001b[1m \u001b[0m┃\u001b[1m \u001b[0m\u001b[1m        Param #\u001b[0m\u001b[1m \u001b[0m┃\n",
       "┡━━━━━━━━━━━━━━━━━━━━━━━━━━━━━━━━━━━━━━╇━━━━━━━━━━━━━━━━━━━━━━━━━━━━━╇━━━━━━━━━━━━━━━━━┩\n",
       "│ conv1d_7 (\u001b[38;5;33mConv1D\u001b[0m)                    │ (\u001b[38;5;45mNone\u001b[0m, \u001b[38;5;34m2\u001b[0m, \u001b[38;5;34m80\u001b[0m)               │             \u001b[38;5;34m240\u001b[0m │\n",
       "├──────────────────────────────────────┼─────────────────────────────┼─────────────────┤\n",
       "│ max_pooling1d_6 (\u001b[38;5;33mMaxPooling1D\u001b[0m)       │ (\u001b[38;5;45mNone\u001b[0m, \u001b[38;5;34m1\u001b[0m, \u001b[38;5;34m80\u001b[0m)               │               \u001b[38;5;34m0\u001b[0m │\n",
       "├──────────────────────────────────────┼─────────────────────────────┼─────────────────┤\n",
       "│ flatten_6 (\u001b[38;5;33mFlatten\u001b[0m)                  │ (\u001b[38;5;45mNone\u001b[0m, \u001b[38;5;34m80\u001b[0m)                  │               \u001b[38;5;34m0\u001b[0m │\n",
       "├──────────────────────────────────────┼─────────────────────────────┼─────────────────┤\n",
       "│ dense_42 (\u001b[38;5;33mDense\u001b[0m)                     │ (\u001b[38;5;45mNone\u001b[0m, \u001b[38;5;34m50\u001b[0m)                  │           \u001b[38;5;34m4,050\u001b[0m │\n",
       "├──────────────────────────────────────┼─────────────────────────────┼─────────────────┤\n",
       "│ dense_43 (\u001b[38;5;33mDense\u001b[0m)                     │ (\u001b[38;5;45mNone\u001b[0m, \u001b[38;5;34m1\u001b[0m)                   │              \u001b[38;5;34m51\u001b[0m │\n",
       "└──────────────────────────────────────┴─────────────────────────────┴─────────────────┘\n"
      ]
     },
     "metadata": {},
     "output_type": "display_data"
    },
    {
     "data": {
      "text/html": [
       "<pre style=\"white-space:pre;overflow-x:auto;line-height:normal;font-family:Menlo,'DejaVu Sans Mono',consolas,'Courier New',monospace\"><span style=\"font-weight: bold\"> Total params: </span><span style=\"color: #00af00; text-decoration-color: #00af00\">13,025</span> (50.88 KB)\n",
       "</pre>\n"
      ],
      "text/plain": [
       "\u001b[1m Total params: \u001b[0m\u001b[38;5;34m13,025\u001b[0m (50.88 KB)\n"
      ]
     },
     "metadata": {},
     "output_type": "display_data"
    },
    {
     "data": {
      "text/html": [
       "<pre style=\"white-space:pre;overflow-x:auto;line-height:normal;font-family:Menlo,'DejaVu Sans Mono',consolas,'Courier New',monospace\"><span style=\"font-weight: bold\"> Trainable params: </span><span style=\"color: #00af00; text-decoration-color: #00af00\">4,341</span> (16.96 KB)\n",
       "</pre>\n"
      ],
      "text/plain": [
       "\u001b[1m Trainable params: \u001b[0m\u001b[38;5;34m4,341\u001b[0m (16.96 KB)\n"
      ]
     },
     "metadata": {},
     "output_type": "display_data"
    },
    {
     "data": {
      "text/html": [
       "<pre style=\"white-space:pre;overflow-x:auto;line-height:normal;font-family:Menlo,'DejaVu Sans Mono',consolas,'Courier New',monospace\"><span style=\"font-weight: bold\"> Non-trainable params: </span><span style=\"color: #00af00; text-decoration-color: #00af00\">0</span> (0.00 B)\n",
       "</pre>\n"
      ],
      "text/plain": [
       "\u001b[1m Non-trainable params: \u001b[0m\u001b[38;5;34m0\u001b[0m (0.00 B)\n"
      ]
     },
     "metadata": {},
     "output_type": "display_data"
    },
    {
     "data": {
      "text/html": [
       "<pre style=\"white-space:pre;overflow-x:auto;line-height:normal;font-family:Menlo,'DejaVu Sans Mono',consolas,'Courier New',monospace\"><span style=\"font-weight: bold\"> Optimizer params: </span><span style=\"color: #00af00; text-decoration-color: #00af00\">8,684</span> (33.93 KB)\n",
       "</pre>\n"
      ],
      "text/plain": [
       "\u001b[1m Optimizer params: \u001b[0m\u001b[38;5;34m8,684\u001b[0m (33.93 KB)\n"
      ]
     },
     "metadata": {},
     "output_type": "display_data"
    }
   ],
   "source": [
    "model_cnn_uni.summary()\n"
   ]
  },
  {
   "cell_type": "code",
   "execution_count": 121,
   "id": "3f7f3d54-c8a0-460a-bf73-8e4d35f3d01d",
   "metadata": {},
   "outputs": [
    {
     "name": "stdout",
     "output_type": "stream",
     "text": [
      "[[107.5442]]\n"
     ]
    }
   ],
   "source": [
    "xtc_u = np.array([70,80,90])\n",
    "xtc_u = xtc_u.reshape((1,3,1))\n",
    "y_hat_cnn_u = model_cnn_uni.predict(xtc_u,verbose=0)\n",
    "print(y_hat_cnn_u)"
   ]
  },
  {
   "cell_type": "markdown",
   "id": "55646674-7f24-4276-b842-fe80f534b995",
   "metadata": {},
   "source": [
    "##### Multivariate CNN "
   ]
  },
  {
   "cell_type": "code",
   "execution_count": 128,
   "id": "87c0d162-cf44-42df-9ebd-73457833061f",
   "metadata": {},
   "outputs": [],
   "source": [
    "Xc_m,yc_m = split_sequence_multi(dataset,3)\n"
   ]
  },
  {
   "cell_type": "code",
   "execution_count": 130,
   "id": "d40ab8b7-5d3a-4fd0-8fce-590ed29ede7b",
   "metadata": {},
   "outputs": [
    {
     "data": {
      "text/plain": [
       "array([[[10, 15],\n",
       "        [20, 25],\n",
       "        [30, 35]],\n",
       "\n",
       "       [[20, 25],\n",
       "        [30, 35],\n",
       "        [40, 45]],\n",
       "\n",
       "       [[30, 35],\n",
       "        [40, 45],\n",
       "        [50, 55]],\n",
       "\n",
       "       [[40, 45],\n",
       "        [50, 55],\n",
       "        [60, 65]],\n",
       "\n",
       "       [[50, 55],\n",
       "        [60, 65],\n",
       "        [70, 75]],\n",
       "\n",
       "       [[60, 65],\n",
       "        [70, 75],\n",
       "        [80, 85]],\n",
       "\n",
       "       [[70, 75],\n",
       "        [80, 85],\n",
       "        [90, 95]]])"
      ]
     },
     "execution_count": 130,
     "metadata": {},
     "output_type": "execute_result"
    }
   ],
   "source": [
    "n_features=2\n",
    "Xc_m = Xc_m.reshape((Xc_m.shape[0],Xc_m.shape[1],n_features))\n",
    "Xc_m"
   ]
  },
  {
   "cell_type": "code",
   "execution_count": 127,
   "id": "44391032-3a6b-43bf-ad07-bdefd80df53c",
   "metadata": {},
   "outputs": [
    {
     "name": "stderr",
     "output_type": "stream",
     "text": [
      "D:\\ML\\Tools\\Lib\\site-packages\\keras\\src\\layers\\convolutional\\base_conv.py:107: UserWarning: Do not pass an `input_shape`/`input_dim` argument to a layer. When using Sequential models, prefer using an `Input(shape)` object as the first layer in the model instead.\n",
      "  super().__init__(activity_regularizer=activity_regularizer, **kwargs)\n"
     ]
    }
   ],
   "source": [
    "# for this just change the (n_samples,n_steps,alter_n_features) here fetatueres=2\n",
    "# all the remaining model is same.... if want another n_stpes=4 we can do that also\n",
    "\n",
    "model_cnn_multivariate = Sequential([\n",
    "                Conv1D(filters=64,kernel_size=2,activation='relu',\n",
    "                      input_shape=(3,2)),\n",
    "                MaxPooling1D(pool_size=2),\n",
    "                Flatten(),\n",
    "                Dense(units=50,activation='relu'),\n",
    "                Dense(1)\n",
    "])\n",
    "model_cnn_multivariate.compile(optimizer='adam',loss='mse')\n"
   ]
  },
  {
   "cell_type": "code",
   "execution_count": 132,
   "id": "1fe2495c-5efc-436a-80b3-5072c195a0b6",
   "metadata": {},
   "outputs": [
    {
     "name": "stdout",
     "output_type": "stream",
     "text": [
      "Epoch 1/100\n",
      "1/1 - 1s - 767ms/step - loss: 15132.6982\n",
      "Epoch 2/100\n",
      "1/1 - 0s - 22ms/step - loss: 14804.5459\n",
      "Epoch 3/100\n",
      "1/1 - 0s - 25ms/step - loss: 14473.9424\n",
      "Epoch 4/100\n",
      "1/1 - 0s - 34ms/step - loss: 14144.3115\n",
      "Epoch 5/100\n",
      "1/1 - 0s - 25ms/step - loss: 13817.8037\n",
      "Epoch 6/100\n",
      "1/1 - 0s - 33ms/step - loss: 13494.0137\n",
      "Epoch 7/100\n",
      "1/1 - 0s - 26ms/step - loss: 13172.5801\n",
      "Epoch 8/100\n",
      "1/1 - 0s - 25ms/step - loss: 12852.9951\n",
      "Epoch 9/100\n",
      "1/1 - 0s - 26ms/step - loss: 12535.3457\n",
      "Epoch 10/100\n",
      "1/1 - 0s - 27ms/step - loss: 12217.7842\n",
      "Epoch 11/100\n",
      "1/1 - 0s - 31ms/step - loss: 11899.4238\n",
      "Epoch 12/100\n",
      "1/1 - 0s - 25ms/step - loss: 11574.9355\n",
      "Epoch 13/100\n",
      "1/1 - 0s - 25ms/step - loss: 11245.3301\n",
      "Epoch 14/100\n",
      "1/1 - 0s - 34ms/step - loss: 10914.9902\n",
      "Epoch 15/100\n",
      "1/1 - 0s - 24ms/step - loss: 10584.7910\n",
      "Epoch 16/100\n",
      "1/1 - 0s - 25ms/step - loss: 10255.0566\n",
      "Epoch 17/100\n",
      "1/1 - 0s - 25ms/step - loss: 9929.6338\n",
      "Epoch 18/100\n",
      "1/1 - 0s - 33ms/step - loss: 9611.9287\n",
      "Epoch 19/100\n",
      "1/1 - 0s - 25ms/step - loss: 9294.3350\n",
      "Epoch 20/100\n",
      "1/1 - 0s - 34ms/step - loss: 8976.7773\n",
      "Epoch 21/100\n",
      "1/1 - 0s - 25ms/step - loss: 8671.4678\n",
      "Epoch 22/100\n",
      "1/1 - 0s - 25ms/step - loss: 8366.7295\n",
      "Epoch 23/100\n",
      "1/1 - 0s - 25ms/step - loss: 8060.3384\n",
      "Epoch 24/100\n",
      "1/1 - 0s - 26ms/step - loss: 7752.5337\n",
      "Epoch 25/100\n",
      "1/1 - 0s - 27ms/step - loss: 7443.5850\n",
      "Epoch 26/100\n",
      "1/1 - 0s - 23ms/step - loss: 7133.7900\n",
      "Epoch 27/100\n",
      "1/1 - 0s - 26ms/step - loss: 6828.1108\n",
      "Epoch 28/100\n",
      "1/1 - 0s - 24ms/step - loss: 6527.8501\n",
      "Epoch 29/100\n",
      "1/1 - 0s - 25ms/step - loss: 6232.1807\n",
      "Epoch 30/100\n",
      "1/1 - 0s - 33ms/step - loss: 5938.8882\n",
      "Epoch 31/100\n",
      "1/1 - 0s - 25ms/step - loss: 5646.5005\n",
      "Epoch 32/100\n",
      "1/1 - 0s - 25ms/step - loss: 5355.3706\n",
      "Epoch 33/100\n",
      "1/1 - 0s - 26ms/step - loss: 5066.0898\n",
      "Epoch 34/100\n",
      "1/1 - 0s - 27ms/step - loss: 4779.2266\n",
      "Epoch 35/100\n",
      "1/1 - 0s - 24ms/step - loss: 4495.1616\n",
      "Epoch 36/100\n",
      "1/1 - 0s - 33ms/step - loss: 4214.5024\n",
      "Epoch 37/100\n",
      "1/1 - 0s - 26ms/step - loss: 3937.8813\n",
      "Epoch 38/100\n",
      "1/1 - 0s - 34ms/step - loss: 3665.9536\n",
      "Epoch 39/100\n",
      "1/1 - 0s - 34ms/step - loss: 3399.3987\n",
      "Epoch 40/100\n",
      "1/1 - 0s - 32ms/step - loss: 3138.9082\n",
      "Epoch 41/100\n",
      "1/1 - 0s - 61ms/step - loss: 2885.1855\n",
      "Epoch 42/100\n",
      "1/1 - 0s - 29ms/step - loss: 2638.9407\n",
      "Epoch 43/100\n",
      "1/1 - 0s - 33ms/step - loss: 2400.8794\n",
      "Epoch 44/100\n",
      "1/1 - 0s - 24ms/step - loss: 2171.6990\n",
      "Epoch 45/100\n",
      "1/1 - 0s - 25ms/step - loss: 1952.0791\n",
      "Epoch 46/100\n",
      "1/1 - 0s - 26ms/step - loss: 1742.6677\n",
      "Epoch 47/100\n",
      "1/1 - 0s - 24ms/step - loss: 1544.0790\n",
      "Epoch 48/100\n",
      "1/1 - 0s - 29ms/step - loss: 1357.2109\n",
      "Epoch 49/100\n",
      "1/1 - 0s - 24ms/step - loss: 1181.5975\n",
      "Epoch 50/100\n",
      "1/1 - 0s - 25ms/step - loss: 1018.6280\n",
      "Epoch 51/100\n",
      "1/1 - 0s - 25ms/step - loss: 868.3104\n",
      "Epoch 52/100\n",
      "1/1 - 0s - 27ms/step - loss: 730.8934\n",
      "Epoch 53/100\n",
      "1/1 - 0s - 33ms/step - loss: 606.5148\n",
      "Epoch 54/100\n",
      "1/1 - 0s - 26ms/step - loss: 495.1952\n",
      "Epoch 55/100\n",
      "1/1 - 0s - 31ms/step - loss: 396.8283\n",
      "Epoch 56/100\n",
      "1/1 - 0s - 27ms/step - loss: 311.1738\n",
      "Epoch 57/100\n",
      "1/1 - 0s - 25ms/step - loss: 237.8537\n",
      "Epoch 58/100\n",
      "1/1 - 0s - 26ms/step - loss: 176.3537\n",
      "Epoch 59/100\n",
      "1/1 - 0s - 25ms/step - loss: 126.0264\n",
      "Epoch 60/100\n",
      "1/1 - 0s - 25ms/step - loss: 86.0991\n",
      "Epoch 61/100\n",
      "1/1 - 0s - 25ms/step - loss: 55.6871\n",
      "Epoch 62/100\n",
      "1/1 - 0s - 24ms/step - loss: 33.8116\n",
      "Epoch 63/100\n",
      "1/1 - 0s - 25ms/step - loss: 19.4216\n",
      "Epoch 64/100\n",
      "1/1 - 0s - 25ms/step - loss: 11.4191\n",
      "Epoch 65/100\n",
      "1/1 - 0s - 25ms/step - loss: 8.6876\n",
      "Epoch 66/100\n",
      "1/1 - 0s - 26ms/step - loss: 10.1222\n",
      "Epoch 67/100\n",
      "1/1 - 0s - 24ms/step - loss: 14.6586\n",
      "Epoch 68/100\n",
      "1/1 - 0s - 17ms/step - loss: 21.3016\n",
      "Epoch 69/100\n",
      "1/1 - 0s - 25ms/step - loss: 29.1490\n",
      "Epoch 70/100\n",
      "1/1 - 0s - 25ms/step - loss: 37.4120\n",
      "Epoch 71/100\n",
      "1/1 - 0s - 25ms/step - loss: 45.4295\n",
      "Epoch 72/100\n",
      "1/1 - 0s - 26ms/step - loss: 52.6752\n",
      "Epoch 73/100\n",
      "1/1 - 0s - 24ms/step - loss: 58.7595\n",
      "Epoch 74/100\n",
      "1/1 - 0s - 25ms/step - loss: 63.4254\n",
      "Epoch 75/100\n",
      "1/1 - 0s - 24ms/step - loss: 66.5372\n",
      "Epoch 76/100\n",
      "1/1 - 0s - 25ms/step - loss: 68.0674\n",
      "Epoch 77/100\n",
      "1/1 - 0s - 33ms/step - loss: 68.0788\n",
      "Epoch 78/100\n",
      "1/1 - 0s - 26ms/step - loss: 66.7052\n",
      "Epoch 79/100\n",
      "1/1 - 0s - 24ms/step - loss: 64.1328\n",
      "Epoch 80/100\n",
      "1/1 - 0s - 25ms/step - loss: 60.5815\n",
      "Epoch 81/100\n",
      "1/1 - 0s - 25ms/step - loss: 56.2871\n",
      "Epoch 82/100\n",
      "1/1 - 0s - 25ms/step - loss: 51.4868\n",
      "Epoch 83/100\n",
      "1/1 - 0s - 25ms/step - loss: 46.4070\n",
      "Epoch 84/100\n",
      "1/1 - 0s - 25ms/step - loss: 41.2539\n",
      "Epoch 85/100\n",
      "1/1 - 0s - 25ms/step - loss: 36.2060\n",
      "Epoch 86/100\n",
      "1/1 - 0s - 24ms/step - loss: 31.4118\n",
      "Epoch 87/100\n",
      "1/1 - 0s - 25ms/step - loss: 26.9859\n",
      "Epoch 88/100\n",
      "1/1 - 0s - 25ms/step - loss: 23.0108\n",
      "Epoch 89/100\n",
      "1/1 - 0s - 25ms/step - loss: 19.5380\n",
      "Epoch 90/100\n",
      "1/1 - 0s - 25ms/step - loss: 16.5907\n",
      "Epoch 91/100\n",
      "1/1 - 0s - 50ms/step - loss: 14.1683\n",
      "Epoch 92/100\n",
      "1/1 - 0s - 24ms/step - loss: 12.2501\n",
      "Epoch 93/100\n",
      "1/1 - 0s - 25ms/step - loss: 10.7995\n",
      "Epoch 94/100\n",
      "1/1 - 0s - 34ms/step - loss: 9.7687\n",
      "Epoch 95/100\n",
      "1/1 - 0s - 25ms/step - loss: 9.1024\n",
      "Epoch 96/100\n",
      "1/1 - 0s - 33ms/step - loss: 8.7413\n",
      "Epoch 97/100\n",
      "1/1 - 0s - 25ms/step - loss: 8.6258\n",
      "Epoch 98/100\n",
      "1/1 - 0s - 25ms/step - loss: 8.6979\n",
      "Epoch 99/100\n",
      "1/1 - 0s - 25ms/step - loss: 8.9035\n",
      "Epoch 100/100\n",
      "1/1 - 0s - 34ms/step - loss: 9.1942\n"
     ]
    },
    {
     "data": {
      "text/plain": [
       "<keras.src.callbacks.history.History at 0x1eb06f2b750>"
      ]
     },
     "execution_count": 132,
     "metadata": {},
     "output_type": "execute_result"
    }
   ],
   "source": [
    "model_cnn_multivariate.fit(Xc_m,yc_m,epochs=100,verbose=2)"
   ]
  },
  {
   "cell_type": "code",
   "execution_count": 136,
   "id": "aab7dc45-5d4f-417c-bda5-933e12a78539",
   "metadata": {},
   "outputs": [
    {
     "data": {
      "text/html": [
       "<pre style=\"white-space:pre;overflow-x:auto;line-height:normal;font-family:Menlo,'DejaVu Sans Mono',consolas,'Courier New',monospace\"><span style=\"font-weight: bold\">Model: \"sequential_13\"</span>\n",
       "</pre>\n"
      ],
      "text/plain": [
       "\u001b[1mModel: \"sequential_13\"\u001b[0m\n"
      ]
     },
     "metadata": {},
     "output_type": "display_data"
    },
    {
     "data": {
      "text/html": [
       "<pre style=\"white-space:pre;overflow-x:auto;line-height:normal;font-family:Menlo,'DejaVu Sans Mono',consolas,'Courier New',monospace\">┏━━━━━━━━━━━━━━━━━━━━━━━━━━━━━━━━━━━━━━┳━━━━━━━━━━━━━━━━━━━━━━━━━━━━━┳━━━━━━━━━━━━━━━━━┓\n",
       "┃<span style=\"font-weight: bold\"> Layer (type)                         </span>┃<span style=\"font-weight: bold\"> Output Shape                </span>┃<span style=\"font-weight: bold\">         Param # </span>┃\n",
       "┡━━━━━━━━━━━━━━━━━━━━━━━━━━━━━━━━━━━━━━╇━━━━━━━━━━━━━━━━━━━━━━━━━━━━━╇━━━━━━━━━━━━━━━━━┩\n",
       "│ conv1d_8 (<span style=\"color: #0087ff; text-decoration-color: #0087ff\">Conv1D</span>)                    │ (<span style=\"color: #00d7ff; text-decoration-color: #00d7ff\">None</span>, <span style=\"color: #00af00; text-decoration-color: #00af00\">2</span>, <span style=\"color: #00af00; text-decoration-color: #00af00\">64</span>)               │             <span style=\"color: #00af00; text-decoration-color: #00af00\">320</span> │\n",
       "├──────────────────────────────────────┼─────────────────────────────┼─────────────────┤\n",
       "│ max_pooling1d_7 (<span style=\"color: #0087ff; text-decoration-color: #0087ff\">MaxPooling1D</span>)       │ (<span style=\"color: #00d7ff; text-decoration-color: #00d7ff\">None</span>, <span style=\"color: #00af00; text-decoration-color: #00af00\">1</span>, <span style=\"color: #00af00; text-decoration-color: #00af00\">64</span>)               │               <span style=\"color: #00af00; text-decoration-color: #00af00\">0</span> │\n",
       "├──────────────────────────────────────┼─────────────────────────────┼─────────────────┤\n",
       "│ flatten_7 (<span style=\"color: #0087ff; text-decoration-color: #0087ff\">Flatten</span>)                  │ (<span style=\"color: #00d7ff; text-decoration-color: #00d7ff\">None</span>, <span style=\"color: #00af00; text-decoration-color: #00af00\">64</span>)                  │               <span style=\"color: #00af00; text-decoration-color: #00af00\">0</span> │\n",
       "├──────────────────────────────────────┼─────────────────────────────┼─────────────────┤\n",
       "│ dense_44 (<span style=\"color: #0087ff; text-decoration-color: #0087ff\">Dense</span>)                     │ (<span style=\"color: #00d7ff; text-decoration-color: #00d7ff\">None</span>, <span style=\"color: #00af00; text-decoration-color: #00af00\">50</span>)                  │           <span style=\"color: #00af00; text-decoration-color: #00af00\">3,250</span> │\n",
       "├──────────────────────────────────────┼─────────────────────────────┼─────────────────┤\n",
       "│ dense_45 (<span style=\"color: #0087ff; text-decoration-color: #0087ff\">Dense</span>)                     │ (<span style=\"color: #00d7ff; text-decoration-color: #00d7ff\">None</span>, <span style=\"color: #00af00; text-decoration-color: #00af00\">1</span>)                   │              <span style=\"color: #00af00; text-decoration-color: #00af00\">51</span> │\n",
       "└──────────────────────────────────────┴─────────────────────────────┴─────────────────┘\n",
       "</pre>\n"
      ],
      "text/plain": [
       "┏━━━━━━━━━━━━━━━━━━━━━━━━━━━━━━━━━━━━━━┳━━━━━━━━━━━━━━━━━━━━━━━━━━━━━┳━━━━━━━━━━━━━━━━━┓\n",
       "┃\u001b[1m \u001b[0m\u001b[1mLayer (type)                        \u001b[0m\u001b[1m \u001b[0m┃\u001b[1m \u001b[0m\u001b[1mOutput Shape               \u001b[0m\u001b[1m \u001b[0m┃\u001b[1m \u001b[0m\u001b[1m        Param #\u001b[0m\u001b[1m \u001b[0m┃\n",
       "┡━━━━━━━━━━━━━━━━━━━━━━━━━━━━━━━━━━━━━━╇━━━━━━━━━━━━━━━━━━━━━━━━━━━━━╇━━━━━━━━━━━━━━━━━┩\n",
       "│ conv1d_8 (\u001b[38;5;33mConv1D\u001b[0m)                    │ (\u001b[38;5;45mNone\u001b[0m, \u001b[38;5;34m2\u001b[0m, \u001b[38;5;34m64\u001b[0m)               │             \u001b[38;5;34m320\u001b[0m │\n",
       "├──────────────────────────────────────┼─────────────────────────────┼─────────────────┤\n",
       "│ max_pooling1d_7 (\u001b[38;5;33mMaxPooling1D\u001b[0m)       │ (\u001b[38;5;45mNone\u001b[0m, \u001b[38;5;34m1\u001b[0m, \u001b[38;5;34m64\u001b[0m)               │               \u001b[38;5;34m0\u001b[0m │\n",
       "├──────────────────────────────────────┼─────────────────────────────┼─────────────────┤\n",
       "│ flatten_7 (\u001b[38;5;33mFlatten\u001b[0m)                  │ (\u001b[38;5;45mNone\u001b[0m, \u001b[38;5;34m64\u001b[0m)                  │               \u001b[38;5;34m0\u001b[0m │\n",
       "├──────────────────────────────────────┼─────────────────────────────┼─────────────────┤\n",
       "│ dense_44 (\u001b[38;5;33mDense\u001b[0m)                     │ (\u001b[38;5;45mNone\u001b[0m, \u001b[38;5;34m50\u001b[0m)                  │           \u001b[38;5;34m3,250\u001b[0m │\n",
       "├──────────────────────────────────────┼─────────────────────────────┼─────────────────┤\n",
       "│ dense_45 (\u001b[38;5;33mDense\u001b[0m)                     │ (\u001b[38;5;45mNone\u001b[0m, \u001b[38;5;34m1\u001b[0m)                   │              \u001b[38;5;34m51\u001b[0m │\n",
       "└──────────────────────────────────────┴─────────────────────────────┴─────────────────┘\n"
      ]
     },
     "metadata": {},
     "output_type": "display_data"
    },
    {
     "data": {
      "text/html": [
       "<pre style=\"white-space:pre;overflow-x:auto;line-height:normal;font-family:Menlo,'DejaVu Sans Mono',consolas,'Courier New',monospace\"><span style=\"font-weight: bold\"> Total params: </span><span style=\"color: #00af00; text-decoration-color: #00af00\">10,865</span> (42.45 KB)\n",
       "</pre>\n"
      ],
      "text/plain": [
       "\u001b[1m Total params: \u001b[0m\u001b[38;5;34m10,865\u001b[0m (42.45 KB)\n"
      ]
     },
     "metadata": {},
     "output_type": "display_data"
    },
    {
     "data": {
      "text/html": [
       "<pre style=\"white-space:pre;overflow-x:auto;line-height:normal;font-family:Menlo,'DejaVu Sans Mono',consolas,'Courier New',monospace\"><span style=\"font-weight: bold\"> Trainable params: </span><span style=\"color: #00af00; text-decoration-color: #00af00\">3,621</span> (14.14 KB)\n",
       "</pre>\n"
      ],
      "text/plain": [
       "\u001b[1m Trainable params: \u001b[0m\u001b[38;5;34m3,621\u001b[0m (14.14 KB)\n"
      ]
     },
     "metadata": {},
     "output_type": "display_data"
    },
    {
     "data": {
      "text/html": [
       "<pre style=\"white-space:pre;overflow-x:auto;line-height:normal;font-family:Menlo,'DejaVu Sans Mono',consolas,'Courier New',monospace\"><span style=\"font-weight: bold\"> Non-trainable params: </span><span style=\"color: #00af00; text-decoration-color: #00af00\">0</span> (0.00 B)\n",
       "</pre>\n"
      ],
      "text/plain": [
       "\u001b[1m Non-trainable params: \u001b[0m\u001b[38;5;34m0\u001b[0m (0.00 B)\n"
      ]
     },
     "metadata": {},
     "output_type": "display_data"
    },
    {
     "data": {
      "text/html": [
       "<pre style=\"white-space:pre;overflow-x:auto;line-height:normal;font-family:Menlo,'DejaVu Sans Mono',consolas,'Courier New',monospace\"><span style=\"font-weight: bold\"> Optimizer params: </span><span style=\"color: #00af00; text-decoration-color: #00af00\">7,244</span> (28.30 KB)\n",
       "</pre>\n"
      ],
      "text/plain": [
       "\u001b[1m Optimizer params: \u001b[0m\u001b[38;5;34m7,244\u001b[0m (28.30 KB)\n"
      ]
     },
     "metadata": {},
     "output_type": "display_data"
    }
   ],
   "source": [
    "model_cnn_multivariate.summary()"
   ]
  },
  {
   "cell_type": "code",
   "execution_count": 138,
   "id": "9e1445a6-072d-46ac-a0a6-d81233c448d0",
   "metadata": {},
   "outputs": [
    {
     "name": "stdout",
     "output_type": "stream",
     "text": [
      "yhat_c_m: [[208.03929]]\n"
     ]
    }
   ],
   "source": [
    " #demonstrateprediction\n",
    "x_input_c_m=np.array([[80,85],[90,95],[100,105]])\n",
    "x_input_c_m=x_input.reshape((1,3,2))\n",
    "yhat_c_m=model_cnn_multivariate.predict(x_input_c_m,verbose=0)\n",
    "print(\"yhat_c_m:\",yhat_c_m)"
   ]
  },
  {
   "cell_type": "markdown",
   "id": "0412ffe2-ce0d-4bc1-9cf4-1dd614695b4c",
   "metadata": {},
   "source": [
    "#### CNN Multivariate, Multi-step"
   ]
  },
  {
   "cell_type": "code",
   "execution_count": 8,
   "id": "936a93cd-1c8c-488f-850d-be908b0df21f",
   "metadata": {},
   "outputs": [
    {
     "data": {
      "text/plain": [
       "array([[ 10,  15,  25],\n",
       "       [ 20,  25,  45],\n",
       "       [ 30,  35,  65],\n",
       "       [ 40,  45,  85],\n",
       "       [ 50,  55, 105],\n",
       "       [ 60,  65, 125],\n",
       "       [ 70,  75, 145],\n",
       "       [ 80,  85, 165],\n",
       "       [ 90,  95, 185]])"
      ]
     },
     "execution_count": 8,
     "metadata": {},
     "output_type": "execute_result"
    }
   ],
   "source": [
    "dataset"
   ]
  },
  {
   "cell_type": "code",
   "execution_count": 21,
   "id": "6ff0d713-3e1e-48a6-a7bc-c22f6dfcb79e",
   "metadata": {},
   "outputs": [
    {
     "data": {
      "text/plain": [
       "(array([[10, 15],\n",
       "        [20, 25],\n",
       "        [30, 35]]),\n",
       " array([65, 85]))"
      ]
     },
     "execution_count": 21,
     "metadata": {},
     "output_type": "execute_result"
    }
   ],
   "source": [
    "dataset[0:3,:2],dataset[2:4,-1]"
   ]
  },
  {
   "cell_type": "code",
   "execution_count": 32,
   "id": "cb4a5497-379e-45f7-a236-ef3ac60fc898",
   "metadata": {},
   "outputs": [],
   "source": [
    "def split_sequence_multi_step(sequences,n_steps,n_out):\n",
    "    X, y = list(),list()\n",
    "    for i in range(len(sequences)):\n",
    "        end_ix = n_steps + i\n",
    "        label_ix = end_ix + n_out-1\n",
    "        if label_ix > len(sequences):\n",
    "            break\n",
    "        x_s,y_s = sequences[i:end_ix,:-1],sequences[end_ix-1:label_ix,-1]\n",
    "        X.append(x_s)\n",
    "        y.append(y_s)\n",
    "    return np.array(X),np.array(y)"
   ]
  },
  {
   "cell_type": "code",
   "execution_count": 37,
   "id": "af42e6df-7589-47a9-aa36-5c835e1dbd76",
   "metadata": {},
   "outputs": [],
   "source": [
    "Xc_mm,yc_mm = split_sequence_multi_step(dataset,3,2)"
   ]
  },
  {
   "cell_type": "code",
   "execution_count": 38,
   "id": "7bd5cd93-b679-4969-a3a1-d1ecd780d9ff",
   "metadata": {},
   "outputs": [
    {
     "data": {
      "text/plain": [
       "(array([[[10, 15],\n",
       "         [20, 25],\n",
       "         [30, 35]],\n",
       " \n",
       "        [[20, 25],\n",
       "         [30, 35],\n",
       "         [40, 45]],\n",
       " \n",
       "        [[30, 35],\n",
       "         [40, 45],\n",
       "         [50, 55]],\n",
       " \n",
       "        [[40, 45],\n",
       "         [50, 55],\n",
       "         [60, 65]],\n",
       " \n",
       "        [[50, 55],\n",
       "         [60, 65],\n",
       "         [70, 75]],\n",
       " \n",
       "        [[60, 65],\n",
       "         [70, 75],\n",
       "         [80, 85]]]),\n",
       " array([[ 65,  85],\n",
       "        [ 85, 105],\n",
       "        [105, 125],\n",
       "        [125, 145],\n",
       "        [145, 165],\n",
       "        [165, 185]]))"
      ]
     },
     "execution_count": 38,
     "metadata": {},
     "output_type": "execute_result"
    }
   ],
   "source": [
    "Xc_mm, yc_mm"
   ]
  },
  {
   "cell_type": "code",
   "execution_count": 43,
   "id": "84208bb0-8fb1-43b5-b21a-80c0cc1c6f4f",
   "metadata": {},
   "outputs": [
    {
     "name": "stderr",
     "output_type": "stream",
     "text": [
      "D:\\ML\\Tools\\Lib\\site-packages\\keras\\src\\layers\\convolutional\\base_conv.py:107: UserWarning: Do not pass an `input_shape`/`input_dim` argument to a layer. When using Sequential models, prefer using an `Input(shape)` object as the first layer in the model instead.\n",
      "  super().__init__(activity_regularizer=activity_regularizer, **kwargs)\n"
     ]
    }
   ],
   "source": [
    "model_cnn_multi_output = Sequential([\n",
    "                        Conv1D(filters=64,kernel_size=2,activation='relu',\n",
    "                              input_shape=(3,2)),\n",
    "                        MaxPooling1D(pool_size=2),\n",
    "                        Flatten(),\n",
    "                        Dense(units=50,activation='relu'),\n",
    "                        Dense(units=2) #n_of_multi-step-output\n",
    "])\n",
    "model_cnn_multi_output.compile(optimizer='adam', loss='mse')"
   ]
  },
  {
   "cell_type": "code",
   "execution_count": 44,
   "id": "28b9f272-20dc-424d-8cc8-fab21be8ed81",
   "metadata": {},
   "outputs": [
    {
     "data": {
      "text/plain": [
       "<keras.src.callbacks.history.History at 0x24d3ba488d0>"
      ]
     },
     "execution_count": 44,
     "metadata": {},
     "output_type": "execute_result"
    }
   ],
   "source": [
    "model_cnn_multi_output.fit(Xc_mm,yc_mm,verbose=0,epochs=200)\n"
   ]
  },
  {
   "cell_type": "code",
   "execution_count": 45,
   "id": "4faa134e-7e27-40d9-81a2-b01556ccec7f",
   "metadata": {},
   "outputs": [
    {
     "name": "stdout",
     "output_type": "stream",
     "text": [
      "[[189.6156  219.94975]]\n"
     ]
    }
   ],
   "source": [
    " x_in_mm =np.array([[70, 75], [80, 85], [90, 95]])\n",
    " x_in_mm = x_in_mm.reshape((1, 3, 2))\n",
    " yhat_mm = model_cnn_multi_output.predict(x_in_mm, verbose=0)\n",
    " print(yhat_mm)"
   ]
  },
  {
   "cell_type": "markdown",
   "id": "6cb8867a-6d6a-45bb-aede-fa28f7997a7b",
   "metadata": {},
   "source": [
    "Ending this notebook here, LSTM variants are resumed in the next Notebook..."
   ]
  },
  {
   "cell_type": "code",
   "execution_count": null,
   "id": "3919cc8c-5d2b-4f47-a7e1-5139ce28fe52",
   "metadata": {},
   "outputs": [],
   "source": []
  }
 ],
 "metadata": {
  "kernelspec": {
   "display_name": "Python 3 (ipykernel)",
   "language": "python",
   "name": "python3"
  },
  "language_info": {
   "codemirror_mode": {
    "name": "ipython",
    "version": 3
   },
   "file_extension": ".py",
   "mimetype": "text/x-python",
   "name": "python",
   "nbconvert_exporter": "python",
   "pygments_lexer": "ipython3",
   "version": "3.11.5"
  }
 },
 "nbformat": 4,
 "nbformat_minor": 5
}
